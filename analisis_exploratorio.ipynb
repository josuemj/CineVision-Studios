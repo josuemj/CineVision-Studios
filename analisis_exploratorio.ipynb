{
 "cells": [
  {
   "cell_type": "code",
   "execution_count": 22,
   "metadata": {},
   "outputs": [
    {
     "data": {
      "text/html": [
       "<div>\n",
       "<style scoped>\n",
       "    .dataframe tbody tr th:only-of-type {\n",
       "        vertical-align: middle;\n",
       "    }\n",
       "\n",
       "    .dataframe tbody tr th {\n",
       "        vertical-align: top;\n",
       "    }\n",
       "\n",
       "    .dataframe thead th {\n",
       "        text-align: right;\n",
       "    }\n",
       "</style>\n",
       "<table border=\"1\" class=\"dataframe\">\n",
       "  <thead>\n",
       "    <tr style=\"text-align: right;\">\n",
       "      <th></th>\n",
       "      <th>id</th>\n",
       "      <th>budget</th>\n",
       "      <th>genres</th>\n",
       "      <th>homePage</th>\n",
       "      <th>productionCompany</th>\n",
       "      <th>productionCompanyCountry</th>\n",
       "      <th>productionCountry</th>\n",
       "      <th>revenue</th>\n",
       "      <th>runtime</th>\n",
       "      <th>video</th>\n",
       "      <th>...</th>\n",
       "      <th>popularity</th>\n",
       "      <th>releaseDate</th>\n",
       "      <th>voteAvg</th>\n",
       "      <th>voteCount</th>\n",
       "      <th>genresAmount</th>\n",
       "      <th>productionCoAmount</th>\n",
       "      <th>productionCountriesAmount</th>\n",
       "      <th>actorsAmount</th>\n",
       "      <th>castWomenAmount</th>\n",
       "      <th>castMenAmount</th>\n",
       "    </tr>\n",
       "  </thead>\n",
       "  <tbody>\n",
       "    <tr>\n",
       "      <th>0</th>\n",
       "      <td>5</td>\n",
       "      <td>4000000</td>\n",
       "      <td>Crime|Comedy</td>\n",
       "      <td>https://www.miramax.com/movie/four-rooms/</td>\n",
       "      <td>Miramax|A Band Apart</td>\n",
       "      <td>US|US</td>\n",
       "      <td>United States of America</td>\n",
       "      <td>4257354.0</td>\n",
       "      <td>98</td>\n",
       "      <td>False</td>\n",
       "      <td>...</td>\n",
       "      <td>20.880</td>\n",
       "      <td>1995-12-09</td>\n",
       "      <td>5.7</td>\n",
       "      <td>2077</td>\n",
       "      <td>2</td>\n",
       "      <td>2</td>\n",
       "      <td>1</td>\n",
       "      <td>25</td>\n",
       "      <td>15</td>\n",
       "      <td>9</td>\n",
       "    </tr>\n",
       "    <tr>\n",
       "      <th>1</th>\n",
       "      <td>6</td>\n",
       "      <td>21000000</td>\n",
       "      <td>Action|Thriller|Crime</td>\n",
       "      <td>NaN</td>\n",
       "      <td>Universal Pictures|Largo Entertainment|JVC</td>\n",
       "      <td>US|US|JP</td>\n",
       "      <td>Japan|United States of America</td>\n",
       "      <td>12136938.0</td>\n",
       "      <td>110</td>\n",
       "      <td>False</td>\n",
       "      <td>...</td>\n",
       "      <td>9.596</td>\n",
       "      <td>1993-10-15</td>\n",
       "      <td>6.5</td>\n",
       "      <td>223</td>\n",
       "      <td>3</td>\n",
       "      <td>3</td>\n",
       "      <td>2</td>\n",
       "      <td>15</td>\n",
       "      <td>3</td>\n",
       "      <td>9</td>\n",
       "    </tr>\n",
       "    <tr>\n",
       "      <th>2</th>\n",
       "      <td>11</td>\n",
       "      <td>11000000</td>\n",
       "      <td>Adventure|Action|Science Fiction</td>\n",
       "      <td>http://www.starwars.com/films/star-wars-episod...</td>\n",
       "      <td>Lucasfilm|20th Century Fox</td>\n",
       "      <td>US|US</td>\n",
       "      <td>United States of America</td>\n",
       "      <td>775398007.0</td>\n",
       "      <td>121</td>\n",
       "      <td>NaN</td>\n",
       "      <td>...</td>\n",
       "      <td>100.003</td>\n",
       "      <td>1977-05-25</td>\n",
       "      <td>8.2</td>\n",
       "      <td>16598</td>\n",
       "      <td>3</td>\n",
       "      <td>2</td>\n",
       "      <td>1</td>\n",
       "      <td>105</td>\n",
       "      <td>5</td>\n",
       "      <td>62</td>\n",
       "    </tr>\n",
       "    <tr>\n",
       "      <th>3</th>\n",
       "      <td>12</td>\n",
       "      <td>94000000</td>\n",
       "      <td>Animation|Family</td>\n",
       "      <td>http://movies.disney.com/finding-nemo</td>\n",
       "      <td>Pixar</td>\n",
       "      <td>US</td>\n",
       "      <td>United States of America</td>\n",
       "      <td>940335536.0</td>\n",
       "      <td>100</td>\n",
       "      <td>NaN</td>\n",
       "      <td>...</td>\n",
       "      <td>134.435</td>\n",
       "      <td>2003-05-30</td>\n",
       "      <td>7.8</td>\n",
       "      <td>15928</td>\n",
       "      <td>2</td>\n",
       "      <td>1</td>\n",
       "      <td>1</td>\n",
       "      <td>24</td>\n",
       "      <td>5</td>\n",
       "      <td>18</td>\n",
       "    </tr>\n",
       "    <tr>\n",
       "      <th>4</th>\n",
       "      <td>13</td>\n",
       "      <td>55000000</td>\n",
       "      <td>Comedy|Drama|Romance</td>\n",
       "      <td>NaN</td>\n",
       "      <td>Paramount|The Steve Tisch Company</td>\n",
       "      <td>US|</td>\n",
       "      <td>United States of America</td>\n",
       "      <td>677387716.0</td>\n",
       "      <td>142</td>\n",
       "      <td>False</td>\n",
       "      <td>...</td>\n",
       "      <td>58.751</td>\n",
       "      <td>1994-07-06</td>\n",
       "      <td>8.5</td>\n",
       "      <td>22045</td>\n",
       "      <td>3</td>\n",
       "      <td>2</td>\n",
       "      <td>1</td>\n",
       "      <td>76</td>\n",
       "      <td>18</td>\n",
       "      <td>48</td>\n",
       "    </tr>\n",
       "    <tr>\n",
       "      <th>...</th>\n",
       "      <td>...</td>\n",
       "      <td>...</td>\n",
       "      <td>...</td>\n",
       "      <td>...</td>\n",
       "      <td>...</td>\n",
       "      <td>...</td>\n",
       "      <td>...</td>\n",
       "      <td>...</td>\n",
       "      <td>...</td>\n",
       "      <td>...</td>\n",
       "      <td>...</td>\n",
       "      <td>...</td>\n",
       "      <td>...</td>\n",
       "      <td>...</td>\n",
       "      <td>...</td>\n",
       "      <td>...</td>\n",
       "      <td>...</td>\n",
       "      <td>...</td>\n",
       "      <td>...</td>\n",
       "      <td>...</td>\n",
       "      <td>...</td>\n",
       "    </tr>\n",
       "    <tr>\n",
       "      <th>9995</th>\n",
       "      <td>920081</td>\n",
       "      <td>0</td>\n",
       "      <td>Action|Horror</td>\n",
       "      <td>NaN</td>\n",
       "      <td>NaN</td>\n",
       "      <td>NaN</td>\n",
       "      <td>NaN</td>\n",
       "      <td>0.0</td>\n",
       "      <td>100</td>\n",
       "      <td>False</td>\n",
       "      <td>...</td>\n",
       "      <td>16.662</td>\n",
       "      <td>2021-11-26</td>\n",
       "      <td>6.8</td>\n",
       "      <td>108</td>\n",
       "      <td>2</td>\n",
       "      <td>1</td>\n",
       "      <td>1</td>\n",
       "      <td>10</td>\n",
       "      <td>2</td>\n",
       "      <td>4</td>\n",
       "    </tr>\n",
       "    <tr>\n",
       "      <th>9996</th>\n",
       "      <td>920143</td>\n",
       "      <td>0</td>\n",
       "      <td>Comedy</td>\n",
       "      <td>NaN</td>\n",
       "      <td>Caracol Televisión|Dago García Producciones</td>\n",
       "      <td>CO|CO</td>\n",
       "      <td>Colombia</td>\n",
       "      <td>0.0</td>\n",
       "      <td>97</td>\n",
       "      <td>False</td>\n",
       "      <td>...</td>\n",
       "      <td>491.706</td>\n",
       "      <td>2021-12-25</td>\n",
       "      <td>1.5</td>\n",
       "      <td>2</td>\n",
       "      <td>1</td>\n",
       "      <td>2</td>\n",
       "      <td>1</td>\n",
       "      <td>8</td>\n",
       "      <td>1</td>\n",
       "      <td>1</td>\n",
       "    </tr>\n",
       "    <tr>\n",
       "      <th>9997</th>\n",
       "      <td>922017</td>\n",
       "      <td>0</td>\n",
       "      <td>Comedy</td>\n",
       "      <td>NaN</td>\n",
       "      <td>NaN</td>\n",
       "      <td>NaN</td>\n",
       "      <td>Nigeria</td>\n",
       "      <td>0.0</td>\n",
       "      <td>112</td>\n",
       "      <td>False</td>\n",
       "      <td>...</td>\n",
       "      <td>565.658</td>\n",
       "      <td>2021-12-17</td>\n",
       "      <td>6.1</td>\n",
       "      <td>30</td>\n",
       "      <td>1</td>\n",
       "      <td>1</td>\n",
       "      <td>17</td>\n",
       "      <td>1</td>\n",
       "      <td>0</td>\n",
       "      <td>922017</td>\n",
       "    </tr>\n",
       "    <tr>\n",
       "      <th>9998</th>\n",
       "      <td>922162</td>\n",
       "      <td>0</td>\n",
       "      <td>NaN</td>\n",
       "      <td>https://www.netflix.com/title/81425229</td>\n",
       "      <td>NaN</td>\n",
       "      <td>NaN</td>\n",
       "      <td>United States of America</td>\n",
       "      <td>0.0</td>\n",
       "      <td>59</td>\n",
       "      <td>False</td>\n",
       "      <td>...</td>\n",
       "      <td>9.664</td>\n",
       "      <td>2021-12-17</td>\n",
       "      <td>6.0</td>\n",
       "      <td>1</td>\n",
       "      <td>1</td>\n",
       "      <td>0</td>\n",
       "      <td>0</td>\n",
       "      <td>0</td>\n",
       "      <td>922162</td>\n",
       "      <td>The Witcher: Fireplace</td>\n",
       "    </tr>\n",
       "    <tr>\n",
       "      <th>9999</th>\n",
       "      <td>922260</td>\n",
       "      <td>254056</td>\n",
       "      <td>Mystery|Thriller|Horror</td>\n",
       "      <td>NaN</td>\n",
       "      <td>Central Partnership|KIT Film Studio</td>\n",
       "      <td>RU|RU</td>\n",
       "      <td>Russia</td>\n",
       "      <td>254042.0</td>\n",
       "      <td>0</td>\n",
       "      <td>NaN</td>\n",
       "      <td>...</td>\n",
       "      <td>83.747</td>\n",
       "      <td>2021-11-11</td>\n",
       "      <td>4.7</td>\n",
       "      <td>3</td>\n",
       "      <td>3</td>\n",
       "      <td>2</td>\n",
       "      <td>1</td>\n",
       "      <td>8</td>\n",
       "      <td>4</td>\n",
       "      <td>3</td>\n",
       "    </tr>\n",
       "  </tbody>\n",
       "</table>\n",
       "<p>10000 rows × 27 columns</p>\n",
       "</div>"
      ],
      "text/plain": [
       "          id    budget                            genres  \\\n",
       "0          5   4000000                      Crime|Comedy   \n",
       "1          6  21000000             Action|Thriller|Crime   \n",
       "2         11  11000000  Adventure|Action|Science Fiction   \n",
       "3         12  94000000                  Animation|Family   \n",
       "4         13  55000000              Comedy|Drama|Romance   \n",
       "...      ...       ...                               ...   \n",
       "9995  920081         0                     Action|Horror   \n",
       "9996  920143         0                            Comedy   \n",
       "9997  922017         0                            Comedy   \n",
       "9998  922162         0                               NaN   \n",
       "9999  922260    254056           Mystery|Thriller|Horror   \n",
       "\n",
       "                                               homePage  \\\n",
       "0             https://www.miramax.com/movie/four-rooms/   \n",
       "1                                                   NaN   \n",
       "2     http://www.starwars.com/films/star-wars-episod...   \n",
       "3                 http://movies.disney.com/finding-nemo   \n",
       "4                                                   NaN   \n",
       "...                                                 ...   \n",
       "9995                                                NaN   \n",
       "9996                                                NaN   \n",
       "9997                                                NaN   \n",
       "9998             https://www.netflix.com/title/81425229   \n",
       "9999                                                NaN   \n",
       "\n",
       "                                productionCompany productionCompanyCountry  \\\n",
       "0                            Miramax|A Band Apart                    US|US   \n",
       "1      Universal Pictures|Largo Entertainment|JVC                 US|US|JP   \n",
       "2                      Lucasfilm|20th Century Fox                    US|US   \n",
       "3                                           Pixar                       US   \n",
       "4               Paramount|The Steve Tisch Company                      US|   \n",
       "...                                           ...                      ...   \n",
       "9995                                          NaN                      NaN   \n",
       "9996  Caracol Televisión|Dago García Producciones                    CO|CO   \n",
       "9997                                          NaN                      NaN   \n",
       "9998                                          NaN                      NaN   \n",
       "9999          Central Partnership|KIT Film Studio                    RU|RU   \n",
       "\n",
       "                   productionCountry      revenue  runtime  video  ...  \\\n",
       "0           United States of America    4257354.0       98  False  ...   \n",
       "1     Japan|United States of America   12136938.0      110  False  ...   \n",
       "2           United States of America  775398007.0      121    NaN  ...   \n",
       "3           United States of America  940335536.0      100    NaN  ...   \n",
       "4           United States of America  677387716.0      142  False  ...   \n",
       "...                              ...          ...      ...    ...  ...   \n",
       "9995                             NaN          0.0      100  False  ...   \n",
       "9996                        Colombia          0.0       97  False  ...   \n",
       "9997                         Nigeria          0.0      112  False  ...   \n",
       "9998        United States of America          0.0       59  False  ...   \n",
       "9999                          Russia     254042.0        0    NaN  ...   \n",
       "\n",
       "     popularity releaseDate voteAvg voteCount genresAmount productionCoAmount  \\\n",
       "0        20.880  1995-12-09     5.7      2077            2                  2   \n",
       "1         9.596  1993-10-15     6.5       223            3                  3   \n",
       "2       100.003  1977-05-25     8.2     16598            3                  2   \n",
       "3       134.435  2003-05-30     7.8     15928            2                  1   \n",
       "4        58.751  1994-07-06     8.5     22045            3                  2   \n",
       "...         ...         ...     ...       ...          ...                ...   \n",
       "9995     16.662  2021-11-26     6.8       108            2                  1   \n",
       "9996    491.706  2021-12-25     1.5         2            1                  2   \n",
       "9997    565.658  2021-12-17     6.1        30            1                  1   \n",
       "9998      9.664  2021-12-17     6.0         1            1                  0   \n",
       "9999     83.747  2021-11-11     4.7         3            3                  2   \n",
       "\n",
       "     productionCountriesAmount  actorsAmount castWomenAmount  \\\n",
       "0                            1            25              15   \n",
       "1                            2            15               3   \n",
       "2                            1           105               5   \n",
       "3                            1            24               5   \n",
       "4                            1            76              18   \n",
       "...                        ...           ...             ...   \n",
       "9995                         1            10               2   \n",
       "9996                         1             8               1   \n",
       "9997                        17             1               0   \n",
       "9998                         0             0          922162   \n",
       "9999                         1             8               4   \n",
       "\n",
       "               castMenAmount  \n",
       "0                          9  \n",
       "1                          9  \n",
       "2                         62  \n",
       "3                         18  \n",
       "4                         48  \n",
       "...                      ...  \n",
       "9995                       4  \n",
       "9996                       1  \n",
       "9997                  922017  \n",
       "9998  The Witcher: Fireplace  \n",
       "9999                       3  \n",
       "\n",
       "[10000 rows x 27 columns]"
      ]
     },
     "execution_count": 22,
     "metadata": {},
     "output_type": "execute_result"
    }
   ],
   "source": [
    "import pandas as pd\n",
    "import plotly.express as px\n",
    "import scipy.stats as st\n",
    "import matplotlib.pyplot as plt\n",
    "import numpy as np \n",
    "\n",
    "movies_data = pd.read_csv(\"movies/movies.csv\",  encoding='latin-1')\n",
    "\n",
    "# Leer datos de un csv\n",
    "movies_data"
   ]
  },
  {
   "cell_type": "markdown",
   "metadata": {},
   "source": [
    "# Ejercicio 1 Exploración rapida de los datos"
   ]
  },
  {
   "cell_type": "markdown",
   "metadata": {},
   "source": [
    "## 1.1 Resumen del set de datos"
   ]
  },
  {
   "cell_type": "code",
   "execution_count": 23,
   "metadata": {},
   "outputs": [
    {
     "data": {
      "text/html": [
       "<div>\n",
       "<style scoped>\n",
       "    .dataframe tbody tr th:only-of-type {\n",
       "        vertical-align: middle;\n",
       "    }\n",
       "\n",
       "    .dataframe tbody tr th {\n",
       "        vertical-align: top;\n",
       "    }\n",
       "\n",
       "    .dataframe thead th {\n",
       "        text-align: right;\n",
       "    }\n",
       "</style>\n",
       "<table border=\"1\" class=\"dataframe\">\n",
       "  <thead>\n",
       "    <tr style=\"text-align: right;\">\n",
       "      <th></th>\n",
       "      <th>id</th>\n",
       "      <th>budget</th>\n",
       "      <th>revenue</th>\n",
       "      <th>runtime</th>\n",
       "      <th>popularity</th>\n",
       "      <th>voteAvg</th>\n",
       "      <th>voteCount</th>\n",
       "      <th>genresAmount</th>\n",
       "      <th>productionCoAmount</th>\n",
       "      <th>productionCountriesAmount</th>\n",
       "      <th>actorsAmount</th>\n",
       "    </tr>\n",
       "  </thead>\n",
       "  <tbody>\n",
       "    <tr>\n",
       "      <th>count</th>\n",
       "      <td>10000.000000</td>\n",
       "      <td>1.000000e+04</td>\n",
       "      <td>1.000000e+04</td>\n",
       "      <td>10000.000000</td>\n",
       "      <td>10000.000000</td>\n",
       "      <td>10000.000000</td>\n",
       "      <td>10000.000000</td>\n",
       "      <td>10000.000000</td>\n",
       "      <td>10000.000000</td>\n",
       "      <td>10000.000000</td>\n",
       "      <td>10000.000000</td>\n",
       "    </tr>\n",
       "    <tr>\n",
       "      <th>mean</th>\n",
       "      <td>249876.829300</td>\n",
       "      <td>1.855163e+07</td>\n",
       "      <td>5.673793e+07</td>\n",
       "      <td>100.268100</td>\n",
       "      <td>51.393907</td>\n",
       "      <td>6.483490</td>\n",
       "      <td>1342.381800</td>\n",
       "      <td>2.596500</td>\n",
       "      <td>3.171400</td>\n",
       "      <td>1.751000</td>\n",
       "      <td>2147.666600</td>\n",
       "    </tr>\n",
       "    <tr>\n",
       "      <th>std</th>\n",
       "      <td>257380.109004</td>\n",
       "      <td>3.662669e+07</td>\n",
       "      <td>1.495854e+08</td>\n",
       "      <td>27.777829</td>\n",
       "      <td>216.729552</td>\n",
       "      <td>0.984274</td>\n",
       "      <td>2564.196637</td>\n",
       "      <td>1.154565</td>\n",
       "      <td>2.539738</td>\n",
       "      <td>3.012093</td>\n",
       "      <td>37200.075802</td>\n",
       "    </tr>\n",
       "    <tr>\n",
       "      <th>min</th>\n",
       "      <td>5.000000</td>\n",
       "      <td>0.000000e+00</td>\n",
       "      <td>0.000000e+00</td>\n",
       "      <td>0.000000</td>\n",
       "      <td>4.258000</td>\n",
       "      <td>1.300000</td>\n",
       "      <td>1.000000</td>\n",
       "      <td>0.000000</td>\n",
       "      <td>0.000000</td>\n",
       "      <td>0.000000</td>\n",
       "      <td>0.000000</td>\n",
       "    </tr>\n",
       "    <tr>\n",
       "      <th>25%</th>\n",
       "      <td>12286.500000</td>\n",
       "      <td>0.000000e+00</td>\n",
       "      <td>0.000000e+00</td>\n",
       "      <td>90.000000</td>\n",
       "      <td>14.577750</td>\n",
       "      <td>5.900000</td>\n",
       "      <td>120.000000</td>\n",
       "      <td>2.000000</td>\n",
       "      <td>2.000000</td>\n",
       "      <td>1.000000</td>\n",
       "      <td>13.000000</td>\n",
       "    </tr>\n",
       "    <tr>\n",
       "      <th>50%</th>\n",
       "      <td>152558.000000</td>\n",
       "      <td>5.000000e+05</td>\n",
       "      <td>1.631245e+05</td>\n",
       "      <td>100.000000</td>\n",
       "      <td>21.905500</td>\n",
       "      <td>6.500000</td>\n",
       "      <td>415.000000</td>\n",
       "      <td>3.000000</td>\n",
       "      <td>3.000000</td>\n",
       "      <td>1.000000</td>\n",
       "      <td>21.000000</td>\n",
       "    </tr>\n",
       "    <tr>\n",
       "      <th>75%</th>\n",
       "      <td>452021.750000</td>\n",
       "      <td>2.000000e+07</td>\n",
       "      <td>4.479661e+07</td>\n",
       "      <td>113.000000</td>\n",
       "      <td>40.654000</td>\n",
       "      <td>7.200000</td>\n",
       "      <td>1316.000000</td>\n",
       "      <td>3.000000</td>\n",
       "      <td>4.000000</td>\n",
       "      <td>2.000000</td>\n",
       "      <td>36.000000</td>\n",
       "    </tr>\n",
       "    <tr>\n",
       "      <th>max</th>\n",
       "      <td>922260.000000</td>\n",
       "      <td>3.800000e+08</td>\n",
       "      <td>2.847246e+09</td>\n",
       "      <td>750.000000</td>\n",
       "      <td>11474.647000</td>\n",
       "      <td>10.000000</td>\n",
       "      <td>30788.000000</td>\n",
       "      <td>16.000000</td>\n",
       "      <td>89.000000</td>\n",
       "      <td>155.000000</td>\n",
       "      <td>919590.000000</td>\n",
       "    </tr>\n",
       "  </tbody>\n",
       "</table>\n",
       "</div>"
      ],
      "text/plain": [
       "                  id        budget       revenue       runtime    popularity  \\\n",
       "count   10000.000000  1.000000e+04  1.000000e+04  10000.000000  10000.000000   \n",
       "mean   249876.829300  1.855163e+07  5.673793e+07    100.268100     51.393907   \n",
       "std    257380.109004  3.662669e+07  1.495854e+08     27.777829    216.729552   \n",
       "min         5.000000  0.000000e+00  0.000000e+00      0.000000      4.258000   \n",
       "25%     12286.500000  0.000000e+00  0.000000e+00     90.000000     14.577750   \n",
       "50%    152558.000000  5.000000e+05  1.631245e+05    100.000000     21.905500   \n",
       "75%    452021.750000  2.000000e+07  4.479661e+07    113.000000     40.654000   \n",
       "max    922260.000000  3.800000e+08  2.847246e+09    750.000000  11474.647000   \n",
       "\n",
       "            voteAvg     voteCount  genresAmount  productionCoAmount  \\\n",
       "count  10000.000000  10000.000000  10000.000000        10000.000000   \n",
       "mean       6.483490   1342.381800      2.596500            3.171400   \n",
       "std        0.984274   2564.196637      1.154565            2.539738   \n",
       "min        1.300000      1.000000      0.000000            0.000000   \n",
       "25%        5.900000    120.000000      2.000000            2.000000   \n",
       "50%        6.500000    415.000000      3.000000            3.000000   \n",
       "75%        7.200000   1316.000000      3.000000            4.000000   \n",
       "max       10.000000  30788.000000     16.000000           89.000000   \n",
       "\n",
       "       productionCountriesAmount   actorsAmount  \n",
       "count               10000.000000   10000.000000  \n",
       "mean                    1.751000    2147.666600  \n",
       "std                     3.012093   37200.075802  \n",
       "min                     0.000000       0.000000  \n",
       "25%                     1.000000      13.000000  \n",
       "50%                     1.000000      21.000000  \n",
       "75%                     2.000000      36.000000  \n",
       "max                   155.000000  919590.000000  "
      ]
     },
     "execution_count": 23,
     "metadata": {},
     "output_type": "execute_result"
    }
   ],
   "source": [
    "movies_data.describe()"
   ]
  },
  {
   "cell_type": "markdown",
   "metadata": {},
   "source": [
    "## 1.2 Cuenta de valores nulos"
   ]
  },
  {
   "cell_type": "code",
   "execution_count": 24,
   "metadata": {},
   "outputs": [
    {
     "data": {
      "text/plain": [
       "id                              0\n",
       "budget                          0\n",
       "genres                         53\n",
       "homePage                     5807\n",
       "productionCompany             457\n",
       "productionCompanyCountry     1280\n",
       "productionCountry             233\n",
       "revenue                         0\n",
       "runtime                         0\n",
       "video                         486\n",
       "director                       74\n",
       "actors                         80\n",
       "actorsPopularity               87\n",
       "actorsCharacter                47\n",
       "originalTitle                   0\n",
       "title                           0\n",
       "originalLanguage                0\n",
       "popularity                      0\n",
       "releaseDate                     0\n",
       "voteAvg                         0\n",
       "voteCount                       0\n",
       "genresAmount                    0\n",
       "productionCoAmount              0\n",
       "productionCountriesAmount       0\n",
       "actorsAmount                    0\n",
       "castWomenAmount                 0\n",
       "castMenAmount                   0\n",
       "dtype: int64"
      ]
     },
     "execution_count": 24,
     "metadata": {},
     "output_type": "execute_result"
    }
   ],
   "source": [
    "\n",
    "null_count = movies_data.isnull().sum()\n",
    "null_count"
   ]
  },
  {
   "cell_type": "markdown",
   "metadata": {},
   "source": [
    "## 1.3 El tipo de cada variable"
   ]
  },
  {
   "cell_type": "code",
   "execution_count": 25,
   "metadata": {},
   "outputs": [
    {
     "name": "stdout",
     "output_type": "stream",
     "text": [
      "<class 'pandas.core.frame.DataFrame'>\n",
      "RangeIndex: 10000 entries, 0 to 9999\n",
      "Data columns (total 27 columns):\n",
      " #   Column                     Non-Null Count  Dtype  \n",
      "---  ------                     --------------  -----  \n",
      " 0   id                         10000 non-null  int64  \n",
      " 1   budget                     10000 non-null  int64  \n",
      " 2   genres                     9947 non-null   object \n",
      " 3   homePage                   4193 non-null   object \n",
      " 4   productionCompany          9543 non-null   object \n",
      " 5   productionCompanyCountry   8720 non-null   object \n",
      " 6   productionCountry          9767 non-null   object \n",
      " 7   revenue                    10000 non-null  float64\n",
      " 8   runtime                    10000 non-null  int64  \n",
      " 9   video                      9514 non-null   object \n",
      " 10  director                   9926 non-null   object \n",
      " 11  actors                     9920 non-null   object \n",
      " 12  actorsPopularity           9913 non-null   object \n",
      " 13  actorsCharacter            9953 non-null   object \n",
      " 14  originalTitle              10000 non-null  object \n",
      " 15  title                      10000 non-null  object \n",
      " 16  originalLanguage           10000 non-null  object \n",
      " 17  popularity                 10000 non-null  float64\n",
      " 18  releaseDate                10000 non-null  object \n",
      " 19  voteAvg                    10000 non-null  float64\n",
      " 20  voteCount                  10000 non-null  int64  \n",
      " 21  genresAmount               10000 non-null  int64  \n",
      " 22  productionCoAmount         10000 non-null  int64  \n",
      " 23  productionCountriesAmount  10000 non-null  int64  \n",
      " 24  actorsAmount               10000 non-null  int64  \n",
      " 25  castWomenAmount            10000 non-null  object \n",
      " 26  castMenAmount              10000 non-null  object \n",
      "dtypes: float64(3), int64(8), object(16)\n",
      "memory usage: 2.1+ MB\n"
     ]
    }
   ],
   "source": [
    "movies_data.info()"
   ]
  },
  {
   "cell_type": "markdown",
   "metadata": {},
   "source": [
    "Aca podemos observar que mas del 50% de las peliculas no cuenta con una pagina de inicio o al menos no esta en el data set"
   ]
  },
  {
   "cell_type": "markdown",
   "metadata": {},
   "source": [
    "# Ejercicio 2 Tipo de cada variable y descripción"
   ]
  },
  {
   "cell_type": "markdown",
   "metadata": {},
   "source": [
    "|          Variable         | Tipo (Cuantitativa o   Cualitativa) | Discreta o Continua / Nominal o   Ordinal | Tipo del Dato |                        Ejemplo                       | descripción                                                       |\n",
    "|:-------------------------:|:-----------------------------------:|:-----------------------------------------:|:-------------:|:----------------------------------------------------:|-------------------------------------------------------------------|\n",
    "|             id            |             Cuantitativa            |                  Discreta                 |     int64     |                           1                          | Id de la película                                                 |\n",
    "|           budget          |             Cuantitativa            |                  Continua                 |     int64     |                        1000000                       | El presupuesto para la película                                   |\n",
    "|           genres          |             Cualitativa             |                  Nominal                  |     object    |                    Action, Comedy                    | El género de la película                                          |\n",
    "|          homePage         |             Cualitativa             |                  Nominal                  |     object    |                    www.example.com                   | La página de inicio de la película                                |\n",
    "|     productionCompany     |             Cualitativa             |                  Nominal                  |     object    |                 Miramax\\|A Band Apart                | Las compañías productoras de la película.                         |\n",
    "|  productionCompanyCountry |             Cualitativa             |                  Nominal                  |     object    |                      US\\|US\\|JP                      | Países de las compañías productoras de la película                |\n",
    "|     productionCountry     |             Cualitativa             |                  Nominal                  |     object    |       United States of America\\|Canada\\|Germany      | Países en los que se llevó a cabo la producción  de la película   |\n",
    "|          revenue          |             Cuantitativa            |                  Continua                 |    float64    |                       1500000.5                      | El ingreso de la película                                         |\n",
    "|          runtime          |             Cuantitativa            |                  Continua                 |     int64     |                          120                         | La duración de la película                                        |\n",
    "|           video           |             Cualitativa             |                  Nominal                  |     object    |                         FALSE                        | Si tiene videos promocionales o no                                |\n",
    "|          director         |             Cualitativa             |                  Nominal                  |     object    |                   Christopher Nolan                  | Director de la película                                           |\n",
    "|           actors          |             Cualitativa             |                  Nominal                  |     object    |                   Leonardo DiCaprio                  | Actores que participan en la película (Elenco)                    |\n",
    "|      actorsPopularity     |             Cualitativa             |                  Nominal                  |     object    |           \\| 9.008\\|6.383\\|10.757\\|18.295\\|          | Indice de popularidad del elenco de la película.                  |\n",
    "|      actorsCharacter      |             Cualitativa             |                  Nominal                  |     object    |  Ted the   Bellhop\\|Angela\\|Man\\|Athena\\|Siegfried\\| | Personaje que interpreta cada actor en la película                |\n",
    "|       originalTitle       |             Cualitativa             |                  Nominal                  |     object    |                       Inception                      | El título original de la película, en su idioma original          |\n",
    "|           title           |             Cualitativa             |                  Nominal                  |     object    |                       Inception                      | El título de la película traducido al inglés                      |\n",
    "|      originalLanguage     |             Cualitativa             |                  Nominal                  |     object    |                        English                       | Idioma original en que se encuentra la película                   |\n",
    "|         popularity        |             Cuantitativa            |                  Continua                 |    float64    |                         95.6                         | Índice de popularidad de la película calculado semanalmente       |\n",
    "|        releaseDate        |             Cualitativa             |                  Nominal                  |     object    |                       7/16/2010                      | Fecha de lanzamiento de la película                               |\n",
    "|          voteAvg          |             Cuantitativa            |                  Continua                 |    float64    |                          8.5                         | El promedio de los votos en la plataforma para la película        |\n",
    "|         voteCount         |             Cuantitativa            |                  Discreta                 |     int64     |                         12000                        | El número de votos en la plataforma para la película              |\n",
    "|        genresAmount       |             Cuantitativa            |                  Discreta                 |     int64     |                           3                          | Cantidad de géneros que representan la película                   |\n",
    "|     productionCoAmount    |             Cuantitativa            |                  Discreta                 |     int64     |                           2                          | Cantidad de compañías productoras que participaron en la película |\n",
    "| productionCountriesAmount |             Cuantitativa            |                  Discreta                 |     int64     |                           5                          | Cantidad de países en los que se rodó la película                 |\n",
    "|        actorsAmount       |             Cuantitativa            |                  Discreta                 |     int64     |                          10                          | Cantidad de personas que actúan en la película                    |\n",
    "|      castWomenAmount      |             Cualitativa             |                  Nominal                  |     object    |                           5                          | Cantidad de actrices en el elenco de la película                  |\n",
    "|       castMenAmount       |             Cualitativa             |                  Nominal                  |     object    |                           8                          | Cantidad de actores en el elenco de la película                   |\n"
   ]
  },
  {
   "cell_type": "markdown",
   "metadata": {},
   "source": [
    "# Ejercicio 3 Variables\n",
    "\n",
    "## 3.1 variables cuantitativas"
   ]
  },
  {
   "cell_type": "code",
   "execution_count": 26,
   "metadata": {},
   "outputs": [
    {
     "data": {
      "image/png": "[encoded data removed]",
      "text/plain": [
       "<Figure size 800x600 with 1 Axes>"
      ]
     },
     "metadata": {},
     "output_type": "display_data"
    },
    {
     "data": {
      "image/png": "[encoded data removed]",
      "text/plain": [
       "<Figure size 800x600 with 1 Axes>"
      ]
     },
     "metadata": {},
     "output_type": "display_data"
    },
    {
     "data": {
      "image/png": "[encoded data removed]",
      "text/plain": [
       "<Figure size 800x600 with 1 Axes>"
      ]
     },
     "metadata": {},
     "output_type": "display_data"
    },
    {
     "data": {
      "image/png": "[encoded data removed]",
      "text/plain": [
       "<Figure size 800x600 with 1 Axes>"
      ]
     },
     "metadata": {},
     "output_type": "display_data"
    },
    {
     "data": {
      "image/png": "[encoded data removed]",
      "text/plain": [
       "<Figure size 800x600 with 1 Axes>"
      ]
     },
     "metadata": {},
     "output_type": "display_data"
    },
    {
     "data": {
      "image/png": "[encoded data removed]",
      "text/plain": [
       "<Figure size 800x600 with 1 Axes>"
      ]
     },
     "metadata": {},
     "output_type": "display_data"
    },
    {
     "data": {
      "image/png": "[encoded data removed]",
      "text/plain": [
       "<Figure size 800x600 with 1 Axes>"
      ]
     },
     "metadata": {},
     "output_type": "display_data"
    },
    {
     "data": {
      "image/png": "[encoded data removed]",
      "text/plain": [
       "<Figure size 800x600 with 1 Axes>"
      ]
     },
     "metadata": {},
     "output_type": "display_data"
    },
    {
     "data": {
      "image/png": "[encoded data removed]",
      "text/plain": [
       "<Figure size 800x600 with 1 Axes>"
      ]
     },
     "metadata": {},
     "output_type": "display_data"
    },
    {
     "data": {
      "image/png": "[encoded data removed]",
      "text/plain": [
       "<Figure size 800x600 with 1 Axes>"
      ]
     },
     "metadata": {},
     "output_type": "display_data"
    },
    {
     "data": {
      "image/png": "[encoded data removed]",
      "text/plain": [
       "<Figure size 800x600 with 1 Axes>"
      ]
     },
     "metadata": {},
     "output_type": "display_data"
    }
   ],
   "source": [
    "var_cuantitativas = movies_data.select_dtypes(include=np.number)\n",
    "normalidad = {}\n",
    "\n",
    "for col in var_cuantitativas.columns:\n",
    "    stat, p = st.kstest(var_cuantitativas[col], 'norm', args=(var_cuantitativas[col].mean(), var_cuantitativas[col].std()))\n",
    "    normalidad[col] = {'Estadisticos: ', stat, 'p-valor: ', p, 'Normal: ', p>0.05}\n",
    "\n",
    "for col in var_cuantitativas.columns:\n",
    "    data_sorted = np.sort(var_cuantitativas[col])\n",
    "    cum_prob = np.linspace(0, 1, len(data_sorted))\n",
    "    \n",
    "    norm_data = st.norm.cdf(data_sorted, loc=var_cuantitativas[col].mean(), scale=var_cuantitativas[col].std())\n",
    "\n",
    "    # Graficar P-P Plot\n",
    "    plt.figure(figsize=(8, 6))\n",
    "    plt.plot(cum_prob, norm_data, marker='o', linestyle='', label='Datos')\n",
    "    plt.plot([0, 1], [0, 1], color='r', linestyle='--', label='Línea de referencia')\n",
    "    plt.title(f'P-P Plot para {col}')\n",
    "    plt.xlabel('Probabilidades Observadas')\n",
    "    plt.ylabel('Probabilidades Esperadas')\n",
    "    plt.legend()\n",
    "    plt.grid(True)\n",
    "    plt.show()"
   ]
  },
  {
   "cell_type": "markdown",
   "metadata": {},
   "source": [
    "## 3.2 Variables Cualitativas"
   ]
  },
  {
   "cell_type": "code",
   "execution_count": 27,
   "metadata": {},
   "outputs": [
    {
     "data": {
      "text/html": [
       "<div>\n",
       "<style scoped>\n",
       "    .dataframe tbody tr th:only-of-type {\n",
       "        vertical-align: middle;\n",
       "    }\n",
       "\n",
       "    .dataframe tbody tr th {\n",
       "        vertical-align: top;\n",
       "    }\n",
       "\n",
       "    .dataframe thead th {\n",
       "        text-align: right;\n",
       "    }\n",
       "</style>\n",
       "<table border=\"1\" class=\"dataframe\">\n",
       "  <thead>\n",
       "    <tr style=\"text-align: right;\">\n",
       "      <th></th>\n",
       "      <th>genres</th>\n",
       "      <th>homePage</th>\n",
       "      <th>productionCompany</th>\n",
       "      <th>productionCompanyCountry</th>\n",
       "      <th>productionCountry</th>\n",
       "      <th>video</th>\n",
       "      <th>director</th>\n",
       "      <th>actors</th>\n",
       "      <th>actorsPopularity</th>\n",
       "      <th>actorsCharacter</th>\n",
       "      <th>originalTitle</th>\n",
       "      <th>title</th>\n",
       "      <th>originalLanguage</th>\n",
       "      <th>releaseDate</th>\n",
       "      <th>castWomenAmount</th>\n",
       "      <th>castMenAmount</th>\n",
       "    </tr>\n",
       "  </thead>\n",
       "  <tbody>\n",
       "    <tr>\n",
       "      <th>Drama</th>\n",
       "      <td>521.0</td>\n",
       "      <td>0.0</td>\n",
       "      <td>0.0</td>\n",
       "      <td>0.0</td>\n",
       "      <td>0.0</td>\n",
       "      <td>0.0</td>\n",
       "      <td>0.0</td>\n",
       "      <td>0.0</td>\n",
       "      <td>0.0</td>\n",
       "      <td>0.0</td>\n",
       "      <td>0.0</td>\n",
       "      <td>0.0</td>\n",
       "      <td>0.0</td>\n",
       "      <td>0.0</td>\n",
       "      <td>0.0</td>\n",
       "      <td>0.0</td>\n",
       "    </tr>\n",
       "    <tr>\n",
       "      <th>Comedy</th>\n",
       "      <td>440.0</td>\n",
       "      <td>0.0</td>\n",
       "      <td>0.0</td>\n",
       "      <td>0.0</td>\n",
       "      <td>0.0</td>\n",
       "      <td>0.0</td>\n",
       "      <td>0.0</td>\n",
       "      <td>0.0</td>\n",
       "      <td>0.0</td>\n",
       "      <td>0.0</td>\n",
       "      <td>0.0</td>\n",
       "      <td>0.0</td>\n",
       "      <td>0.0</td>\n",
       "      <td>0.0</td>\n",
       "      <td>0.0</td>\n",
       "      <td>0.0</td>\n",
       "    </tr>\n",
       "    <tr>\n",
       "      <th>Horror</th>\n",
       "      <td>230.0</td>\n",
       "      <td>0.0</td>\n",
       "      <td>0.0</td>\n",
       "      <td>0.0</td>\n",
       "      <td>0.0</td>\n",
       "      <td>0.0</td>\n",
       "      <td>0.0</td>\n",
       "      <td>0.0</td>\n",
       "      <td>0.0</td>\n",
       "      <td>0.0</td>\n",
       "      <td>0.0</td>\n",
       "      <td>0.0</td>\n",
       "      <td>0.0</td>\n",
       "      <td>0.0</td>\n",
       "      <td>0.0</td>\n",
       "      <td>0.0</td>\n",
       "    </tr>\n",
       "    <tr>\n",
       "      <th>Drama|Romance</th>\n",
       "      <td>211.0</td>\n",
       "      <td>0.0</td>\n",
       "      <td>0.0</td>\n",
       "      <td>0.0</td>\n",
       "      <td>0.0</td>\n",
       "      <td>0.0</td>\n",
       "      <td>0.0</td>\n",
       "      <td>0.0</td>\n",
       "      <td>0.0</td>\n",
       "      <td>0.0</td>\n",
       "      <td>0.0</td>\n",
       "      <td>0.0</td>\n",
       "      <td>0.0</td>\n",
       "      <td>0.0</td>\n",
       "      <td>0.0</td>\n",
       "      <td>0.0</td>\n",
       "    </tr>\n",
       "    <tr>\n",
       "      <th>Horror|Thriller</th>\n",
       "      <td>205.0</td>\n",
       "      <td>0.0</td>\n",
       "      <td>0.0</td>\n",
       "      <td>0.0</td>\n",
       "      <td>0.0</td>\n",
       "      <td>0.0</td>\n",
       "      <td>0.0</td>\n",
       "      <td>0.0</td>\n",
       "      <td>0.0</td>\n",
       "      <td>0.0</td>\n",
       "      <td>0.0</td>\n",
       "      <td>0.0</td>\n",
       "      <td>0.0</td>\n",
       "      <td>0.0</td>\n",
       "      <td>0.0</td>\n",
       "      <td>0.0</td>\n",
       "    </tr>\n",
       "    <tr>\n",
       "      <th>...</th>\n",
       "      <td>...</td>\n",
       "      <td>...</td>\n",
       "      <td>...</td>\n",
       "      <td>...</td>\n",
       "      <td>...</td>\n",
       "      <td>...</td>\n",
       "      <td>...</td>\n",
       "      <td>...</td>\n",
       "      <td>...</td>\n",
       "      <td>...</td>\n",
       "      <td>...</td>\n",
       "      <td>...</td>\n",
       "      <td>...</td>\n",
       "      <td>...</td>\n",
       "      <td>...</td>\n",
       "      <td>...</td>\n",
       "    </tr>\n",
       "    <tr>\n",
       "      <th>900887</th>\n",
       "      <td>0.0</td>\n",
       "      <td>0.0</td>\n",
       "      <td>0.0</td>\n",
       "      <td>0.0</td>\n",
       "      <td>0.0</td>\n",
       "      <td>0.0</td>\n",
       "      <td>0.0</td>\n",
       "      <td>0.0</td>\n",
       "      <td>0.0</td>\n",
       "      <td>0.0</td>\n",
       "      <td>0.0</td>\n",
       "      <td>0.0</td>\n",
       "      <td>0.0</td>\n",
       "      <td>0.0</td>\n",
       "      <td>0.0</td>\n",
       "      <td>1.0</td>\n",
       "    </tr>\n",
       "    <tr>\n",
       "      <th>901407</th>\n",
       "      <td>0.0</td>\n",
       "      <td>0.0</td>\n",
       "      <td>0.0</td>\n",
       "      <td>0.0</td>\n",
       "      <td>0.0</td>\n",
       "      <td>0.0</td>\n",
       "      <td>0.0</td>\n",
       "      <td>0.0</td>\n",
       "      <td>0.0</td>\n",
       "      <td>0.0</td>\n",
       "      <td>0.0</td>\n",
       "      <td>0.0</td>\n",
       "      <td>0.0</td>\n",
       "      <td>0.0</td>\n",
       "      <td>0.0</td>\n",
       "      <td>1.0</td>\n",
       "    </tr>\n",
       "    <tr>\n",
       "      <th>911071</th>\n",
       "      <td>0.0</td>\n",
       "      <td>0.0</td>\n",
       "      <td>0.0</td>\n",
       "      <td>0.0</td>\n",
       "      <td>0.0</td>\n",
       "      <td>0.0</td>\n",
       "      <td>0.0</td>\n",
       "      <td>0.0</td>\n",
       "      <td>0.0</td>\n",
       "      <td>0.0</td>\n",
       "      <td>0.0</td>\n",
       "      <td>0.0</td>\n",
       "      <td>0.0</td>\n",
       "      <td>0.0</td>\n",
       "      <td>0.0</td>\n",
       "      <td>1.0</td>\n",
       "    </tr>\n",
       "    <tr>\n",
       "      <th>912223</th>\n",
       "      <td>0.0</td>\n",
       "      <td>0.0</td>\n",
       "      <td>0.0</td>\n",
       "      <td>0.0</td>\n",
       "      <td>0.0</td>\n",
       "      <td>0.0</td>\n",
       "      <td>0.0</td>\n",
       "      <td>0.0</td>\n",
       "      <td>0.0</td>\n",
       "      <td>0.0</td>\n",
       "      <td>0.0</td>\n",
       "      <td>0.0</td>\n",
       "      <td>0.0</td>\n",
       "      <td>0.0</td>\n",
       "      <td>0.0</td>\n",
       "      <td>1.0</td>\n",
       "    </tr>\n",
       "    <tr>\n",
       "      <th>922017</th>\n",
       "      <td>0.0</td>\n",
       "      <td>0.0</td>\n",
       "      <td>0.0</td>\n",
       "      <td>0.0</td>\n",
       "      <td>0.0</td>\n",
       "      <td>0.0</td>\n",
       "      <td>0.0</td>\n",
       "      <td>0.0</td>\n",
       "      <td>0.0</td>\n",
       "      <td>0.0</td>\n",
       "      <td>0.0</td>\n",
       "      <td>0.0</td>\n",
       "      <td>0.0</td>\n",
       "      <td>0.0</td>\n",
       "      <td>0.0</td>\n",
       "      <td>1.0</td>\n",
       "    </tr>\n",
       "  </tbody>\n",
       "</table>\n",
       "<p>69937 rows × 16 columns</p>\n",
       "</div>"
      ],
      "text/plain": [
       "                 genres  homePage  productionCompany  \\\n",
       "Drama             521.0       0.0                0.0   \n",
       "Comedy            440.0       0.0                0.0   \n",
       "Horror            230.0       0.0                0.0   \n",
       "Drama|Romance     211.0       0.0                0.0   \n",
       "Horror|Thriller   205.0       0.0                0.0   \n",
       "...                 ...       ...                ...   \n",
       "900887              0.0       0.0                0.0   \n",
       "901407              0.0       0.0                0.0   \n",
       "911071              0.0       0.0                0.0   \n",
       "912223              0.0       0.0                0.0   \n",
       "922017              0.0       0.0                0.0   \n",
       "\n",
       "                 productionCompanyCountry  productionCountry  video  director  \\\n",
       "Drama                                 0.0                0.0    0.0       0.0   \n",
       "Comedy                                0.0                0.0    0.0       0.0   \n",
       "Horror                                0.0                0.0    0.0       0.0   \n",
       "Drama|Romance                         0.0                0.0    0.0       0.0   \n",
       "Horror|Thriller                       0.0                0.0    0.0       0.0   \n",
       "...                                   ...                ...    ...       ...   \n",
       "900887                                0.0                0.0    0.0       0.0   \n",
       "901407                                0.0                0.0    0.0       0.0   \n",
       "911071                                0.0                0.0    0.0       0.0   \n",
       "912223                                0.0                0.0    0.0       0.0   \n",
       "922017                                0.0                0.0    0.0       0.0   \n",
       "\n",
       "                 actors  actorsPopularity  actorsCharacter  originalTitle  \\\n",
       "Drama               0.0               0.0              0.0            0.0   \n",
       "Comedy              0.0               0.0              0.0            0.0   \n",
       "Horror              0.0               0.0              0.0            0.0   \n",
       "Drama|Romance       0.0               0.0              0.0            0.0   \n",
       "Horror|Thriller     0.0               0.0              0.0            0.0   \n",
       "...                 ...               ...              ...            ...   \n",
       "900887              0.0               0.0              0.0            0.0   \n",
       "901407              0.0               0.0              0.0            0.0   \n",
       "911071              0.0               0.0              0.0            0.0   \n",
       "912223              0.0               0.0              0.0            0.0   \n",
       "922017              0.0               0.0              0.0            0.0   \n",
       "\n",
       "                 title  originalLanguage  releaseDate  castWomenAmount  \\\n",
       "Drama              0.0               0.0          0.0              0.0   \n",
       "Comedy             0.0               0.0          0.0              0.0   \n",
       "Horror             0.0               0.0          0.0              0.0   \n",
       "Drama|Romance      0.0               0.0          0.0              0.0   \n",
       "Horror|Thriller    0.0               0.0          0.0              0.0   \n",
       "...                ...               ...          ...              ...   \n",
       "900887             0.0               0.0          0.0              0.0   \n",
       "901407             0.0               0.0          0.0              0.0   \n",
       "911071             0.0               0.0          0.0              0.0   \n",
       "912223             0.0               0.0          0.0              0.0   \n",
       "922017             0.0               0.0          0.0              0.0   \n",
       "\n",
       "                 castMenAmount  \n",
       "Drama                      0.0  \n",
       "Comedy                     0.0  \n",
       "Horror                     0.0  \n",
       "Drama|Romance              0.0  \n",
       "Horror|Thriller            0.0  \n",
       "...                        ...  \n",
       "900887                     1.0  \n",
       "901407                     1.0  \n",
       "911071                     1.0  \n",
       "912223                     1.0  \n",
       "922017                     1.0  \n",
       "\n",
       "[69937 rows x 16 columns]"
      ]
     },
     "execution_count": 27,
     "metadata": {},
     "output_type": "execute_result"
    }
   ],
   "source": [
    "\n",
    "var_cualitativas = movies_data.select_dtypes(exclude=np.number)\n",
    "\n",
    "tabla_frecuencia = {col: var_cualitativas[col].value_counts().sort_values(ascending=False) for col in var_cualitativas.columns}\n",
    "\n",
    "frecuencia_df = pd.concat(tabla_frecuencia, axis=1)\n",
    "\n",
    "frecuencia_df.fillna(0, inplace=True)\n",
    "\n",
    "frecuencia_df"
   ]
  },
  {
   "cell_type": "markdown",
   "metadata": {},
   "source": [
    "# Ej 4\n",
    "## Preguntas"
   ]
  },
  {
   "cell_type": "markdown",
   "metadata": {},
   "source": [
    "## a) ¿Cuáles son las 10 películas que contaron con más presupuesto?"
   ]
  },
  {
   "cell_type": "code",
   "execution_count": 28,
   "metadata": {},
   "outputs": [
    {
     "data": {
      "application/vnd.plotly.v1+json": {
       "config": {
        "plotlyServerURL": "https://plot.ly"
       },
       "data": [
        {
         "alignmentgroup": "True",
         "hovertemplate": "title=%{x}<br>budget=%{y}<extra></extra>",
         "legendgroup": "",
         "marker": {
          "color": "#636efa",
          "pattern": {
           "shape": ""
          }
         },
         "name": "",
         "offsetgroup": "",
         "orientation": "v",
         "showlegend": false,
         "textposition": "auto",
         "type": "bar",
         "x": [
          "Pirates of the Caribbean: On Stranger Tides",
          "Avengers: Age of Ultron",
          "Avengers: Endgame",
          "Justice League",
          "Avengers: Infinity War",
          "Pirates of the Caribbean: At World's End",
          "Superman Returns",
          "The Lion King",
          "Tangled",
          "Spider-Man 3"
         ],
         "xaxis": "x",
         "y": [
          380000000,
          365000000,
          356000000,
          300000000,
          300000000,
          300000000,
          270000000,
          260000000,
          260000000,
          258000000
         ],
         "yaxis": "y"
        }
       ],
       "layout": {
        "barmode": "relative",
        "legend": {
         "tracegroupgap": 0
        },
        "template": {
         "data": {
          "bar": [
           {
            "error_x": {
             "color": "#2a3f5f"
            },
            "error_y": {
             "color": "#2a3f5f"
            },
            "marker": {
             "line": {
              "color": "#E5ECF6",
              "width": 0.5
             },
             "pattern": {
              "fillmode": "overlay",
              "size": 10,
              "solidity": 0.2
             }
            },
            "type": "bar"
           }
          ],
          "barpolar": [
           {
            "marker": {
             "line": {
              "color": "#E5ECF6",
              "width": 0.5
             },
             "pattern": {
              "fillmode": "overlay",
              "size": 10,
              "solidity": 0.2
             }
            },
            "type": "barpolar"
           }
          ],
          "carpet": [
           {
            "aaxis": {
             "endlinecolor": "#2a3f5f",
             "gridcolor": "white",
             "linecolor": "white",
             "minorgridcolor": "white",
             "startlinecolor": "#2a3f5f"
            },
            "baxis": {
             "endlinecolor": "#2a3f5f",
             "gridcolor": "white",
             "linecolor": "white",
             "minorgridcolor": "white",
             "startlinecolor": "#2a3f5f"
            },
            "type": "carpet"
           }
          ],
          "choropleth": [
           {
            "colorbar": {
             "outlinewidth": 0,
             "ticks": ""
            },
            "type": "choropleth"
           }
          ],
          "contour": [
           {
            "colorbar": {
             "outlinewidth": 0,
             "ticks": ""
            },
            "colorscale": [
             [
              0,
              "#0d0887"
             ],
             [
              0.1111111111111111,
              "#46039f"
             ],
             [
              0.2222222222222222,
              "#7201a8"
             ],
             [
              0.3333333333333333,
              "#9c179e"
             ],
             [
              0.4444444444444444,
              "#bd3786"
             ],
             [
              0.5555555555555556,
              "#d8576b"
             ],
             [
              0.6666666666666666,
              "#ed7953"
             ],
             [
              0.7777777777777778,
              "#fb9f3a"
             ],
             [
              0.8888888888888888,
              "#fdca26"
             ],
             [
              1,
              "#f0f921"
             ]
            ],
            "type": "contour"
           }
          ],
          "contourcarpet": [
           {
            "colorbar": {
             "outlinewidth": 0,
             "ticks": ""
            },
            "type": "contourcarpet"
           }
          ],
          "heatmap": [
           {
            "colorbar": {
             "outlinewidth": 0,
             "ticks": ""
            },
            "colorscale": [
             [
              0,
              "#0d0887"
             ],
             [
              0.1111111111111111,
              "#46039f"
             ],
             [
              0.2222222222222222,
              "#7201a8"
             ],
             [
              0.3333333333333333,
              "#9c179e"
             ],
             [
              0.4444444444444444,
              "#bd3786"
             ],
             [
              0.5555555555555556,
              "#d8576b"
             ],
             [
              0.6666666666666666,
              "#ed7953"
             ],
             [
              0.7777777777777778,
              "#fb9f3a"
             ],
             [
              0.8888888888888888,
              "#fdca26"
             ],
             [
              1,
              "#f0f921"
             ]
            ],
            "type": "heatmap"
           }
          ],
          "heatmapgl": [
           {
            "colorbar": {
             "outlinewidth": 0,
             "ticks": ""
            },
            "colorscale": [
             [
              0,
              "#0d0887"
             ],
             [
              0.1111111111111111,
              "#46039f"
             ],
             [
              0.2222222222222222,
              "#7201a8"
             ],
             [
              0.3333333333333333,
              "#9c179e"
             ],
             [
              0.4444444444444444,
              "#bd3786"
             ],
             [
              0.5555555555555556,
              "#d8576b"
             ],
             [
              0.6666666666666666,
              "#ed7953"
             ],
             [
              0.7777777777777778,
              "#fb9f3a"
             ],
             [
              0.8888888888888888,
              "#fdca26"
             ],
             [
              1,
              "#f0f921"
             ]
            ],
            "type": "heatmapgl"
           }
          ],
          "histogram": [
           {
            "marker": {
             "pattern": {
              "fillmode": "overlay",
              "size": 10,
              "solidity": 0.2
             }
            },
            "type": "histogram"
           }
          ],
          "histogram2d": [
           {
            "colorbar": {
             "outlinewidth": 0,
             "ticks": ""
            },
            "colorscale": [
             [
              0,
              "#0d0887"
             ],
             [
              0.1111111111111111,
              "#46039f"
             ],
             [
              0.2222222222222222,
              "#7201a8"
             ],
             [
              0.3333333333333333,
              "#9c179e"
             ],
             [
              0.4444444444444444,
              "#bd3786"
             ],
             [
              0.5555555555555556,
              "#d8576b"
             ],
             [
              0.6666666666666666,
              "#ed7953"
             ],
             [
              0.7777777777777778,
              "#fb9f3a"
             ],
             [
              0.8888888888888888,
              "#fdca26"
             ],
             [
              1,
              "#f0f921"
             ]
            ],
            "type": "histogram2d"
           }
          ],
          "histogram2dcontour": [
           {
            "colorbar": {
             "outlinewidth": 0,
             "ticks": ""
            },
            "colorscale": [
             [
              0,
              "#0d0887"
             ],
             [
              0.1111111111111111,
              "#46039f"
             ],
             [
              0.2222222222222222,
              "#7201a8"
             ],
             [
              0.3333333333333333,
              "#9c179e"
             ],
             [
              0.4444444444444444,
              "#bd3786"
             ],
             [
              0.5555555555555556,
              "#d8576b"
             ],
             [
              0.6666666666666666,
              "#ed7953"
             ],
             [
              0.7777777777777778,
              "#fb9f3a"
             ],
             [
              0.8888888888888888,
              "#fdca26"
             ],
             [
              1,
              "#f0f921"
             ]
            ],
            "type": "histogram2dcontour"
           }
          ],
          "mesh3d": [
           {
            "colorbar": {
             "outlinewidth": 0,
             "ticks": ""
            },
            "type": "mesh3d"
           }
          ],
          "parcoords": [
           {
            "line": {
             "colorbar": {
              "outlinewidth": 0,
              "ticks": ""
             }
            },
            "type": "parcoords"
           }
          ],
          "pie": [
           {
            "automargin": true,
            "type": "pie"
           }
          ],
          "scatter": [
           {
            "fillpattern": {
             "fillmode": "overlay",
             "size": 10,
             "solidity": 0.2
            },
            "type": "scatter"
           }
          ],
          "scatter3d": [
           {
            "line": {
             "colorbar": {
              "outlinewidth": 0,
              "ticks": ""
             }
            },
            "marker": {
             "colorbar": {
              "outlinewidth": 0,
              "ticks": ""
             }
            },
            "type": "scatter3d"
           }
          ],
          "scattercarpet": [
           {
            "marker": {
             "colorbar": {
              "outlinewidth": 0,
              "ticks": ""
             }
            },
            "type": "scattercarpet"
           }
          ],
          "scattergeo": [
           {
            "marker": {
             "colorbar": {
              "outlinewidth": 0,
              "ticks": ""
             }
            },
            "type": "scattergeo"
           }
          ],
          "scattergl": [
           {
            "marker": {
             "colorbar": {
              "outlinewidth": 0,
              "ticks": ""
             }
            },
            "type": "scattergl"
           }
          ],
          "scattermapbox": [
           {
            "marker": {
             "colorbar": {
              "outlinewidth": 0,
              "ticks": ""
             }
            },
            "type": "scattermapbox"
           }
          ],
          "scatterpolar": [
           {
            "marker": {
             "colorbar": {
              "outlinewidth": 0,
              "ticks": ""
             }
            },
            "type": "scatterpolar"
           }
          ],
          "scatterpolargl": [
           {
            "marker": {
             "colorbar": {
              "outlinewidth": 0,
              "ticks": ""
             }
            },
            "type": "scatterpolargl"
           }
          ],
          "scatterternary": [
           {
            "marker": {
             "colorbar": {
              "outlinewidth": 0,
              "ticks": ""
             }
            },
            "type": "scatterternary"
           }
          ],
          "surface": [
           {
            "colorbar": {
             "outlinewidth": 0,
             "ticks": ""
            },
            "colorscale": [
             [
              0,
              "#0d0887"
             ],
             [
              0.1111111111111111,
              "#46039f"
             ],
             [
              0.2222222222222222,
              "#7201a8"
             ],
             [
              0.3333333333333333,
              "#9c179e"
             ],
             [
              0.4444444444444444,
              "#bd3786"
             ],
             [
              0.5555555555555556,
              "#d8576b"
             ],
             [
              0.6666666666666666,
              "#ed7953"
             ],
             [
              0.7777777777777778,
              "#fb9f3a"
             ],
             [
              0.8888888888888888,
              "#fdca26"
             ],
             [
              1,
              "#f0f921"
             ]
            ],
            "type": "surface"
           }
          ],
          "table": [
           {
            "cells": {
             "fill": {
              "color": "#EBF0F8"
             },
             "line": {
              "color": "white"
             }
            },
            "header": {
             "fill": {
              "color": "#C8D4E3"
             },
             "line": {
              "color": "white"
             }
            },
            "type": "table"
           }
          ]
         },
         "layout": {
          "annotationdefaults": {
           "arrowcolor": "#2a3f5f",
           "arrowhead": 0,
           "arrowwidth": 1
          },
          "autotypenumbers": "strict",
          "coloraxis": {
           "colorbar": {
            "outlinewidth": 0,
            "ticks": ""
           }
          },
          "colorscale": {
           "diverging": [
            [
             0,
             "#8e0152"
            ],
            [
             0.1,
             "#c51b7d"
            ],
            [
             0.2,
             "#de77ae"
            ],
            [
             0.3,
             "#f1b6da"
            ],
            [
             0.4,
             "#fde0ef"
            ],
            [
             0.5,
             "#f7f7f7"
            ],
            [
             0.6,
             "#e6f5d0"
            ],
            [
             0.7,
             "#b8e186"
            ],
            [
             0.8,
             "#7fbc41"
            ],
            [
             0.9,
             "#4d9221"
            ],
            [
             1,
             "#276419"
            ]
           ],
           "sequential": [
            [
             0,
             "#0d0887"
            ],
            [
             0.1111111111111111,
             "#46039f"
            ],
            [
             0.2222222222222222,
             "#7201a8"
            ],
            [
             0.3333333333333333,
             "#9c179e"
            ],
            [
             0.4444444444444444,
             "#bd3786"
            ],
            [
             0.5555555555555556,
             "#d8576b"
            ],
            [
             0.6666666666666666,
             "#ed7953"
            ],
            [
             0.7777777777777778,
             "#fb9f3a"
            ],
            [
             0.8888888888888888,
             "#fdca26"
            ],
            [
             1,
             "#f0f921"
            ]
           ],
           "sequentialminus": [
            [
             0,
             "#0d0887"
            ],
            [
             0.1111111111111111,
             "#46039f"
            ],
            [
             0.2222222222222222,
             "#7201a8"
            ],
            [
             0.3333333333333333,
             "#9c179e"
            ],
            [
             0.4444444444444444,
             "#bd3786"
            ],
            [
             0.5555555555555556,
             "#d8576b"
            ],
            [
             0.6666666666666666,
             "#ed7953"
            ],
            [
             0.7777777777777778,
             "#fb9f3a"
            ],
            [
             0.8888888888888888,
             "#fdca26"
            ],
            [
             1,
             "#f0f921"
            ]
           ]
          },
          "colorway": [
           "#636efa",
           "#EF553B",
           "#00cc96",
           "#ab63fa",
           "#FFA15A",
           "#19d3f3",
           "#FF6692",
           "#B6E880",
           "#FF97FF",
           "#FECB52"
          ],
          "font": {
           "color": "#2a3f5f"
          },
          "geo": {
           "bgcolor": "white",
           "lakecolor": "white",
           "landcolor": "#E5ECF6",
           "showlakes": true,
           "showland": true,
           "subunitcolor": "white"
          },
          "hoverlabel": {
           "align": "left"
          },
          "hovermode": "closest",
          "mapbox": {
           "style": "light"
          },
          "paper_bgcolor": "white",
          "plot_bgcolor": "#E5ECF6",
          "polar": {
           "angularaxis": {
            "gridcolor": "white",
            "linecolor": "white",
            "ticks": ""
           },
           "bgcolor": "#E5ECF6",
           "radialaxis": {
            "gridcolor": "white",
            "linecolor": "white",
            "ticks": ""
           }
          },
          "scene": {
           "xaxis": {
            "backgroundcolor": "#E5ECF6",
            "gridcolor": "white",
            "gridwidth": 2,
            "linecolor": "white",
            "showbackground": true,
            "ticks": "",
            "zerolinecolor": "white"
           },
           "yaxis": {
            "backgroundcolor": "#E5ECF6",
            "gridcolor": "white",
            "gridwidth": 2,
            "linecolor": "white",
            "showbackground": true,
            "ticks": "",
            "zerolinecolor": "white"
           },
           "zaxis": {
            "backgroundcolor": "#E5ECF6",
            "gridcolor": "white",
            "gridwidth": 2,
            "linecolor": "white",
            "showbackground": true,
            "ticks": "",
            "zerolinecolor": "white"
           }
          },
          "shapedefaults": {
           "line": {
            "color": "#2a3f5f"
           }
          },
          "ternary": {
           "aaxis": {
            "gridcolor": "white",
            "linecolor": "white",
            "ticks": ""
           },
           "baxis": {
            "gridcolor": "white",
            "linecolor": "white",
            "ticks": ""
           },
           "bgcolor": "#E5ECF6",
           "caxis": {
            "gridcolor": "white",
            "linecolor": "white",
            "ticks": ""
           }
          },
          "title": {
           "x": 0.05
          },
          "xaxis": {
           "automargin": true,
           "gridcolor": "white",
           "linecolor": "white",
           "ticks": "",
           "title": {
            "standoff": 15
           },
           "zerolinecolor": "white",
           "zerolinewidth": 2
          },
          "yaxis": {
           "automargin": true,
           "gridcolor": "white",
           "linecolor": "white",
           "ticks": "",
           "title": {
            "standoff": 15
           },
           "zerolinecolor": "white",
           "zerolinewidth": 2
          }
         }
        },
        "title": {
         "text": "Top 10 budget movies"
        },
        "xaxis": {
         "anchor": "y",
         "domain": [
          0,
          1
         ],
         "title": {
          "text": "title"
         }
        },
        "yaxis": {
         "anchor": "x",
         "domain": [
          0,
          1
         ],
         "title": {
          "text": "budget"
         }
        }
       }
      }
     },
     "metadata": {},
     "output_type": "display_data"
    }
   ],
   "source": [
    "top_budget = movies_data[[\"budget\",\"title\"]].sort_values(by = \"budget\", ascending=False).head(10)\n",
    "data = {\n",
    "    'title' : top_budget[\"title\"].tolist(),\n",
    "    'budget' : top_budget[\"budget\"].tolist()\n",
    "}\n",
    "fig = px.bar(data, x='title', y='budget', title='Top 10 budget movies')\n",
    "fig.show()"
   ]
  },
  {
   "cell_type": "markdown",
   "metadata": {},
   "source": [
    "## b) ¿Cuáles son las 10 películas que más ingresos tuvieron?"
   ]
  },
  {
   "cell_type": "code",
   "execution_count": 29,
   "metadata": {},
   "outputs": [
    {
     "data": {
      "application/vnd.plotly.v1+json": {
       "config": {
        "plotlyServerURL": "https://plot.ly"
       },
       "data": [
        {
         "alignmentgroup": "True",
         "hovertemplate": "Ingresos ($)=%{text}<br>Película=%{y}<extra></extra>",
         "legendgroup": "",
         "marker": {
          "color": "#636efa",
          "pattern": {
           "shape": ""
          }
         },
         "name": "",
         "offsetgroup": "",
         "orientation": "h",
         "showlegend": false,
         "text": [
          2847246203,
          2797800564,
          2187463944,
          2068223624,
          2046239637,
          1671713208,
          1667635327,
          1631853496,
          1518815515,
          1515047671
         ],
         "textposition": "auto",
         "type": "bar",
         "x": [
          2847246203,
          2797800564,
          2187463944,
          2068223624,
          2046239637,
          1671713208,
          1667635327,
          1631853496,
          1518815515,
          1515047671
         ],
         "xaxis": "x",
         "y": [
          "Avatar",
          "Avengers: Endgame",
          "Titanic",
          "Star Wars: The Force Awakens",
          "Avengers: Infinity War",
          "Jurassic World",
          "The Lion King",
          "Spider-Man: No Way Home",
          "The Avengers",
          "Furious 7"
         ],
         "yaxis": "y"
        }
       ],
       "layout": {
        "barmode": "relative",
        "legend": {
         "tracegroupgap": 0
        },
        "template": {
         "data": {
          "bar": [
           {
            "error_x": {
             "color": "#2a3f5f"
            },
            "error_y": {
             "color": "#2a3f5f"
            },
            "marker": {
             "line": {
              "color": "#E5ECF6",
              "width": 0.5
             },
             "pattern": {
              "fillmode": "overlay",
              "size": 10,
              "solidity": 0.2
             }
            },
            "type": "bar"
           }
          ],
          "barpolar": [
           {
            "marker": {
             "line": {
              "color": "#E5ECF6",
              "width": 0.5
             },
             "pattern": {
              "fillmode": "overlay",
              "size": 10,
              "solidity": 0.2
             }
            },
            "type": "barpolar"
           }
          ],
          "carpet": [
           {
            "aaxis": {
             "endlinecolor": "#2a3f5f",
             "gridcolor": "white",
             "linecolor": "white",
             "minorgridcolor": "white",
             "startlinecolor": "#2a3f5f"
            },
            "baxis": {
             "endlinecolor": "#2a3f5f",
             "gridcolor": "white",
             "linecolor": "white",
             "minorgridcolor": "white",
             "startlinecolor": "#2a3f5f"
            },
            "type": "carpet"
           }
          ],
          "choropleth": [
           {
            "colorbar": {
             "outlinewidth": 0,
             "ticks": ""
            },
            "type": "choropleth"
           }
          ],
          "contour": [
           {
            "colorbar": {
             "outlinewidth": 0,
             "ticks": ""
            },
            "colorscale": [
             [
              0,
              "#0d0887"
             ],
             [
              0.1111111111111111,
              "#46039f"
             ],
             [
              0.2222222222222222,
              "#7201a8"
             ],
             [
              0.3333333333333333,
              "#9c179e"
             ],
             [
              0.4444444444444444,
              "#bd3786"
             ],
             [
              0.5555555555555556,
              "#d8576b"
             ],
             [
              0.6666666666666666,
              "#ed7953"
             ],
             [
              0.7777777777777778,
              "#fb9f3a"
             ],
             [
              0.8888888888888888,
              "#fdca26"
             ],
             [
              1,
              "#f0f921"
             ]
            ],
            "type": "contour"
           }
          ],
          "contourcarpet": [
           {
            "colorbar": {
             "outlinewidth": 0,
             "ticks": ""
            },
            "type": "contourcarpet"
           }
          ],
          "heatmap": [
           {
            "colorbar": {
             "outlinewidth": 0,
             "ticks": ""
            },
            "colorscale": [
             [
              0,
              "#0d0887"
             ],
             [
              0.1111111111111111,
              "#46039f"
             ],
             [
              0.2222222222222222,
              "#7201a8"
             ],
             [
              0.3333333333333333,
              "#9c179e"
             ],
             [
              0.4444444444444444,
              "#bd3786"
             ],
             [
              0.5555555555555556,
              "#d8576b"
             ],
             [
              0.6666666666666666,
              "#ed7953"
             ],
             [
              0.7777777777777778,
              "#fb9f3a"
             ],
             [
              0.8888888888888888,
              "#fdca26"
             ],
             [
              1,
              "#f0f921"
             ]
            ],
            "type": "heatmap"
           }
          ],
          "heatmapgl": [
           {
            "colorbar": {
             "outlinewidth": 0,
             "ticks": ""
            },
            "colorscale": [
             [
              0,
              "#0d0887"
             ],
             [
              0.1111111111111111,
              "#46039f"
             ],
             [
              0.2222222222222222,
              "#7201a8"
             ],
             [
              0.3333333333333333,
              "#9c179e"
             ],
             [
              0.4444444444444444,
              "#bd3786"
             ],
             [
              0.5555555555555556,
              "#d8576b"
             ],
             [
              0.6666666666666666,
              "#ed7953"
             ],
             [
              0.7777777777777778,
              "#fb9f3a"
             ],
             [
              0.8888888888888888,
              "#fdca26"
             ],
             [
              1,
              "#f0f921"
             ]
            ],
            "type": "heatmapgl"
           }
          ],
          "histogram": [
           {
            "marker": {
             "pattern": {
              "fillmode": "overlay",
              "size": 10,
              "solidity": 0.2
             }
            },
            "type": "histogram"
           }
          ],
          "histogram2d": [
           {
            "colorbar": {
             "outlinewidth": 0,
             "ticks": ""
            },
            "colorscale": [
             [
              0,
              "#0d0887"
             ],
             [
              0.1111111111111111,
              "#46039f"
             ],
             [
              0.2222222222222222,
              "#7201a8"
             ],
             [
              0.3333333333333333,
              "#9c179e"
             ],
             [
              0.4444444444444444,
              "#bd3786"
             ],
             [
              0.5555555555555556,
              "#d8576b"
             ],
             [
              0.6666666666666666,
              "#ed7953"
             ],
             [
              0.7777777777777778,
              "#fb9f3a"
             ],
             [
              0.8888888888888888,
              "#fdca26"
             ],
             [
              1,
              "#f0f921"
             ]
            ],
            "type": "histogram2d"
           }
          ],
          "histogram2dcontour": [
           {
            "colorbar": {
             "outlinewidth": 0,
             "ticks": ""
            },
            "colorscale": [
             [
              0,
              "#0d0887"
             ],
             [
              0.1111111111111111,
              "#46039f"
             ],
             [
              0.2222222222222222,
              "#7201a8"
             ],
             [
              0.3333333333333333,
              "#9c179e"
             ],
             [
              0.4444444444444444,
              "#bd3786"
             ],
             [
              0.5555555555555556,
              "#d8576b"
             ],
             [
              0.6666666666666666,
              "#ed7953"
             ],
             [
              0.7777777777777778,
              "#fb9f3a"
             ],
             [
              0.8888888888888888,
              "#fdca26"
             ],
             [
              1,
              "#f0f921"
             ]
            ],
            "type": "histogram2dcontour"
           }
          ],
          "mesh3d": [
           {
            "colorbar": {
             "outlinewidth": 0,
             "ticks": ""
            },
            "type": "mesh3d"
           }
          ],
          "parcoords": [
           {
            "line": {
             "colorbar": {
              "outlinewidth": 0,
              "ticks": ""
             }
            },
            "type": "parcoords"
           }
          ],
          "pie": [
           {
            "automargin": true,
            "type": "pie"
           }
          ],
          "scatter": [
           {
            "fillpattern": {
             "fillmode": "overlay",
             "size": 10,
             "solidity": 0.2
            },
            "type": "scatter"
           }
          ],
          "scatter3d": [
           {
            "line": {
             "colorbar": {
              "outlinewidth": 0,
              "ticks": ""
             }
            },
            "marker": {
             "colorbar": {
              "outlinewidth": 0,
              "ticks": ""
             }
            },
            "type": "scatter3d"
           }
          ],
          "scattercarpet": [
           {
            "marker": {
             "colorbar": {
              "outlinewidth": 0,
              "ticks": ""
             }
            },
            "type": "scattercarpet"
           }
          ],
          "scattergeo": [
           {
            "marker": {
             "colorbar": {
              "outlinewidth": 0,
              "ticks": ""
             }
            },
            "type": "scattergeo"
           }
          ],
          "scattergl": [
           {
            "marker": {
             "colorbar": {
              "outlinewidth": 0,
              "ticks": ""
             }
            },
            "type": "scattergl"
           }
          ],
          "scattermapbox": [
           {
            "marker": {
             "colorbar": {
              "outlinewidth": 0,
              "ticks": ""
             }
            },
            "type": "scattermapbox"
           }
          ],
          "scatterpolar": [
           {
            "marker": {
             "colorbar": {
              "outlinewidth": 0,
              "ticks": ""
             }
            },
            "type": "scatterpolar"
           }
          ],
          "scatterpolargl": [
           {
            "marker": {
             "colorbar": {
              "outlinewidth": 0,
              "ticks": ""
             }
            },
            "type": "scatterpolargl"
           }
          ],
          "scatterternary": [
           {
            "marker": {
             "colorbar": {
              "outlinewidth": 0,
              "ticks": ""
             }
            },
            "type": "scatterternary"
           }
          ],
          "surface": [
           {
            "colorbar": {
             "outlinewidth": 0,
             "ticks": ""
            },
            "colorscale": [
             [
              0,
              "#0d0887"
             ],
             [
              0.1111111111111111,
              "#46039f"
             ],
             [
              0.2222222222222222,
              "#7201a8"
             ],
             [
              0.3333333333333333,
              "#9c179e"
             ],
             [
              0.4444444444444444,
              "#bd3786"
             ],
             [
              0.5555555555555556,
              "#d8576b"
             ],
             [
              0.6666666666666666,
              "#ed7953"
             ],
             [
              0.7777777777777778,
              "#fb9f3a"
             ],
             [
              0.8888888888888888,
              "#fdca26"
             ],
             [
              1,
              "#f0f921"
             ]
            ],
            "type": "surface"
           }
          ],
          "table": [
           {
            "cells": {
             "fill": {
              "color": "#EBF0F8"
             },
             "line": {
              "color": "white"
             }
            },
            "header": {
             "fill": {
              "color": "#C8D4E3"
             },
             "line": {
              "color": "white"
             }
            },
            "type": "table"
           }
          ]
         },
         "layout": {
          "annotationdefaults": {
           "arrowcolor": "#2a3f5f",
           "arrowhead": 0,
           "arrowwidth": 1
          },
          "autotypenumbers": "strict",
          "coloraxis": {
           "colorbar": {
            "outlinewidth": 0,
            "ticks": ""
           }
          },
          "colorscale": {
           "diverging": [
            [
             0,
             "#8e0152"
            ],
            [
             0.1,
             "#c51b7d"
            ],
            [
             0.2,
             "#de77ae"
            ],
            [
             0.3,
             "#f1b6da"
            ],
            [
             0.4,
             "#fde0ef"
            ],
            [
             0.5,
             "#f7f7f7"
            ],
            [
             0.6,
             "#e6f5d0"
            ],
            [
             0.7,
             "#b8e186"
            ],
            [
             0.8,
             "#7fbc41"
            ],
            [
             0.9,
             "#4d9221"
            ],
            [
             1,
             "#276419"
            ]
           ],
           "sequential": [
            [
             0,
             "#0d0887"
            ],
            [
             0.1111111111111111,
             "#46039f"
            ],
            [
             0.2222222222222222,
             "#7201a8"
            ],
            [
             0.3333333333333333,
             "#9c179e"
            ],
            [
             0.4444444444444444,
             "#bd3786"
            ],
            [
             0.5555555555555556,
             "#d8576b"
            ],
            [
             0.6666666666666666,
             "#ed7953"
            ],
            [
             0.7777777777777778,
             "#fb9f3a"
            ],
            [
             0.8888888888888888,
             "#fdca26"
            ],
            [
             1,
             "#f0f921"
            ]
           ],
           "sequentialminus": [
            [
             0,
             "#0d0887"
            ],
            [
             0.1111111111111111,
             "#46039f"
            ],
            [
             0.2222222222222222,
             "#7201a8"
            ],
            [
             0.3333333333333333,
             "#9c179e"
            ],
            [
             0.4444444444444444,
             "#bd3786"
            ],
            [
             0.5555555555555556,
             "#d8576b"
            ],
            [
             0.6666666666666666,
             "#ed7953"
            ],
            [
             0.7777777777777778,
             "#fb9f3a"
            ],
            [
             0.8888888888888888,
             "#fdca26"
            ],
            [
             1,
             "#f0f921"
            ]
           ]
          },
          "colorway": [
           "#636efa",
           "#EF553B",
           "#00cc96",
           "#ab63fa",
           "#FFA15A",
           "#19d3f3",
           "#FF6692",
           "#B6E880",
           "#FF97FF",
           "#FECB52"
          ],
          "font": {
           "color": "#2a3f5f"
          },
          "geo": {
           "bgcolor": "white",
           "lakecolor": "white",
           "landcolor": "#E5ECF6",
           "showlakes": true,
           "showland": true,
           "subunitcolor": "white"
          },
          "hoverlabel": {
           "align": "left"
          },
          "hovermode": "closest",
          "mapbox": {
           "style": "light"
          },
          "paper_bgcolor": "white",
          "plot_bgcolor": "#E5ECF6",
          "polar": {
           "angularaxis": {
            "gridcolor": "white",
            "linecolor": "white",
            "ticks": ""
           },
           "bgcolor": "#E5ECF6",
           "radialaxis": {
            "gridcolor": "white",
            "linecolor": "white",
            "ticks": ""
           }
          },
          "scene": {
           "xaxis": {
            "backgroundcolor": "#E5ECF6",
            "gridcolor": "white",
            "gridwidth": 2,
            "linecolor": "white",
            "showbackground": true,
            "ticks": "",
            "zerolinecolor": "white"
           },
           "yaxis": {
            "backgroundcolor": "#E5ECF6",
            "gridcolor": "white",
            "gridwidth": 2,
            "linecolor": "white",
            "showbackground": true,
            "ticks": "",
            "zerolinecolor": "white"
           },
           "zaxis": {
            "backgroundcolor": "#E5ECF6",
            "gridcolor": "white",
            "gridwidth": 2,
            "linecolor": "white",
            "showbackground": true,
            "ticks": "",
            "zerolinecolor": "white"
           }
          },
          "shapedefaults": {
           "line": {
            "color": "#2a3f5f"
           }
          },
          "ternary": {
           "aaxis": {
            "gridcolor": "white",
            "linecolor": "white",
            "ticks": ""
           },
           "baxis": {
            "gridcolor": "white",
            "linecolor": "white",
            "ticks": ""
           },
           "bgcolor": "#E5ECF6",
           "caxis": {
            "gridcolor": "white",
            "linecolor": "white",
            "ticks": ""
           }
          },
          "title": {
           "x": 0.05
          },
          "xaxis": {
           "automargin": true,
           "gridcolor": "white",
           "linecolor": "white",
           "ticks": "",
           "title": {
            "standoff": 15
           },
           "zerolinecolor": "white",
           "zerolinewidth": 2
          },
          "yaxis": {
           "automargin": true,
           "gridcolor": "white",
           "linecolor": "white",
           "ticks": "",
           "title": {
            "standoff": 15
           },
           "zerolinecolor": "white",
           "zerolinewidth": 2
          }
         }
        },
        "title": {
         "text": "Top 10 Películas con Mayores Ingresos"
        },
        "xaxis": {
         "anchor": "y",
         "domain": [
          0,
          1
         ],
         "title": {
          "text": "Ingresos ($)"
         }
        },
        "yaxis": {
         "anchor": "x",
         "categoryorder": "total ascending",
         "domain": [
          0,
          1
         ],
         "title": {
          "text": "Película"
         }
        }
       }
      }
     },
     "metadata": {},
     "output_type": "display_data"
    },
    {
     "name": "stdout",
     "output_type": "stream",
     "text": [
      "LAS PELICULAS CON MAYORES INGRESO SON:  ['Avatar', 'Avengers: Endgame', 'Titanic', 'Star Wars: The Force Awakens', 'Avengers: Infinity War', 'Jurassic World', 'The Lion King', 'Spider-Man: No Way Home', 'The Avengers', 'Furious 7']\n"
     ]
    }
   ],
   "source": [
    "top_revenue_movies = movies_data.nlargest(10, 'revenue')[['title', 'originalTitle', 'revenue']]\n",
    "\n",
    "movies_revenue = px.bar(\n",
    "    top_revenue_movies, \n",
    "    x=\"revenue\", \n",
    "    y=\"title\", \n",
    "    orientation=\"h\", \n",
    "    title=\"Top 10 Películas con Mayores Ingresos\",\n",
    "    labels={\"revenue\": \"Ingresos ($)\", \"title\": \"Película\"},\n",
    "    text=\"revenue\", \n",
    ")\n",
    "\n",
    "movies_revenue.update_layout(yaxis=dict(categoryorder=\"total ascending\"))\n",
    "\n",
    "movies_revenue.show()\n",
    "\n",
    "print('LAS PELICULAS CON MAYORES INGRESO SON: ', top_revenue_movies['title'].tolist())"
   ]
  },
  {
   "cell_type": "markdown",
   "metadata": {},
   "source": [
    "## c) ¿Cuál es la película que más votos tuvo?"
   ]
  },
  {
   "cell_type": "code",
   "execution_count": 30,
   "metadata": {},
   "outputs": [
    {
     "name": "stdout",
     "output_type": "stream",
     "text": [
      "Inception\n"
     ]
    }
   ],
   "source": [
    "top_votes_movie = movies_data[[\"title\",\"voteCount\"]].sort_values(by=\"voteCount\", ascending=False).head(1)\n",
    "print(top_votes_movie.values[0][0])"
   ]
  },
  {
   "cell_type": "markdown",
   "metadata": {},
   "source": [
    "## d)  ¿Cuál es la peor película de acuerdo a los votos de todos los usuarios?"
   ]
  },
  {
   "cell_type": "code",
   "execution_count": 31,
   "metadata": {},
   "outputs": [
    {
     "name": "stdout",
     "output_type": "stream",
     "text": [
      "LA PEOR PELICULA SEGUN LOS VOTOS DE LOS USUARIOS ES  DAKAICHI -I'm Being Harassed by the Sexiest Man of the Year- The Movie: In Spain\n"
     ]
    },
    {
     "data": {
      "text/html": [
       "<div>\n",
       "<style scoped>\n",
       "    .dataframe tbody tr th:only-of-type {\n",
       "        vertical-align: middle;\n",
       "    }\n",
       "\n",
       "    .dataframe tbody tr th {\n",
       "        vertical-align: top;\n",
       "    }\n",
       "\n",
       "    .dataframe thead th {\n",
       "        text-align: right;\n",
       "    }\n",
       "</style>\n",
       "<table border=\"1\" class=\"dataframe\">\n",
       "  <thead>\n",
       "    <tr style=\"text-align: right;\">\n",
       "      <th></th>\n",
       "      <th>title</th>\n",
       "      <th>voteAvg</th>\n",
       "      <th>voteCount</th>\n",
       "    </tr>\n",
       "  </thead>\n",
       "  <tbody>\n",
       "    <tr>\n",
       "      <th>9786</th>\n",
       "      <td>DAKAICHI -I'm Being Harassed by the Sexiest Ma...</td>\n",
       "      <td>1.3</td>\n",
       "      <td>2</td>\n",
       "    </tr>\n",
       "  </tbody>\n",
       "</table>\n",
       "</div>"
      ],
      "text/plain": [
       "                                                  title  voteAvg  voteCount\n",
       "9786  DAKAICHI -I'm Being Harassed by the Sexiest Ma...      1.3          2"
      ]
     },
     "execution_count": 31,
     "metadata": {},
     "output_type": "execute_result"
    }
   ],
   "source": [
    "worst_movie = movies_data.nsmallest(1, 'voteAvg')[['title', 'voteAvg', 'voteCount']]\n",
    "\n",
    "print('LA PEOR PELICULA SEGUN LOS VOTOS DE LOS USUARIOS ES ', worst_movie.values[0][0])\n",
    "worst_movie"
   ]
  },
  {
   "cell_type": "markdown",
   "metadata": {},
   "source": [
    "## e) ¿Cuántas películas se hicieron en cada año? ¿En qué año se hicieron más películas? Haga un gráfico de barras"
   ]
  },
  {
   "cell_type": "code",
   "execution_count": null,
   "metadata": {},
   "outputs": [
    {
     "data": {
      "application/vnd.plotly.v1+json": {
       "config": {
        "plotlyServerURL": "https://plot.ly"
       },
       "data": [
        {
         "alignmentgroup": "True",
         "hovertemplate": "x=%{x}<br>y=%{y}<extra></extra>",
         "legendgroup": "",
         "marker": {
          "color": "#636efa",
          "pattern": {
           "shape": ""
          }
         },
         "name": "",
         "offsetgroup": "",
         "orientation": "v",
         "showlegend": false,
         "textposition": "auto",
         "type": "bar",
         "x": [
          "2021",
          "2018",
          "2017",
          "2019",
          "2016",
          "2020",
          "2015",
          "2014",
          "2013",
          "2011",
          "2009",
          "2012",
          "2010",
          "2008",
          "2006",
          "2007",
          "2005",
          "2004",
          "2003",
          "2002",
          "2001",
          "2000",
          "1999",
          "1998",
          "1997",
          "1993",
          "1995",
          "1996",
          "1994",
          "1992",
          "1989",
          "1988",
          "1987",
          "1991",
          "1986",
          "1990",
          "1985",
          "1984",
          "1982",
          "1981",
          "1983",
          "1978",
          "1977",
          "1980",
          "1979",
          "1973",
          "1976",
          "1963",
          "1975",
          "1967",
          "1974",
          "1971",
          "1957",
          "1968",
          "1953",
          "1962",
          "1972",
          "1966",
          "1970",
          "1959",
          "1956",
          "1954",
          "1969",
          "1964",
          "1961",
          "1960",
          "1958",
          "1952",
          "1965",
          "1955",
          "1948",
          "2022",
          "1940",
          "1951",
          "1942",
          "1950",
          "1947",
          "1946",
          "1931",
          "1944",
          "1941",
          "1939",
          "1949",
          "1927",
          "1925",
          "1943",
          "1938",
          "1932",
          "1922",
          "1920",
          "1933",
          "1930",
          "1921",
          "1937",
          "1936",
          "1929",
          "1926",
          "1902",
          "1935"
         ],
         "xaxis": "x",
         "y": [
          816,
          629,
          618,
          612,
          557,
          533,
          450,
          432,
          412,
          361,
          342,
          328,
          307,
          282,
          272,
          266,
          245,
          229,
          199,
          185,
          176,
          132,
          97,
          92,
          84,
          83,
          79,
          76,
          65,
          63,
          59,
          59,
          53,
          50,
          48,
          47,
          47,
          41,
          35,
          30,
          28,
          22,
          21,
          20,
          20,
          19,
          18,
          16,
          16,
          16,
          16,
          16,
          15,
          15,
          13,
          13,
          13,
          13,
          12,
          12,
          11,
          11,
          11,
          10,
          10,
          9,
          9,
          8,
          8,
          7,
          7,
          7,
          7,
          6,
          4,
          4,
          4,
          4,
          4,
          4,
          4,
          4,
          3,
          2,
          2,
          2,
          1,
          1,
          1,
          1,
          1,
          1,
          1,
          1,
          1,
          1,
          1,
          1,
          1
         ],
         "yaxis": "y"
        }
       ],
       "layout": {
        "barmode": "relative",
        "legend": {
         "tracegroupgap": 0
        },
        "template": {
         "data": {
          "bar": [
           {
            "error_x": {
             "color": "#2a3f5f"
            },
            "error_y": {
             "color": "#2a3f5f"
            },
            "marker": {
             "line": {
              "color": "#E5ECF6",
              "width": 0.5
             },
             "pattern": {
              "fillmode": "overlay",
              "size": 10,
              "solidity": 0.2
             }
            },
            "type": "bar"
           }
          ],
          "barpolar": [
           {
            "marker": {
             "line": {
              "color": "#E5ECF6",
              "width": 0.5
             },
             "pattern": {
              "fillmode": "overlay",
              "size": 10,
              "solidity": 0.2
             }
            },
            "type": "barpolar"
           }
          ],
          "carpet": [
           {
            "aaxis": {
             "endlinecolor": "#2a3f5f",
             "gridcolor": "white",
             "linecolor": "white",
             "minorgridcolor": "white",
             "startlinecolor": "#2a3f5f"
            },
            "baxis": {
             "endlinecolor": "#2a3f5f",
             "gridcolor": "white",
             "linecolor": "white",
             "minorgridcolor": "white",
             "startlinecolor": "#2a3f5f"
            },
            "type": "carpet"
           }
          ],
          "choropleth": [
           {
            "colorbar": {
             "outlinewidth": 0,
             "ticks": ""
            },
            "type": "choropleth"
           }
          ],
          "contour": [
           {
            "colorbar": {
             "outlinewidth": 0,
             "ticks": ""
            },
            "colorscale": [
             [
              0,
              "#0d0887"
             ],
             [
              0.1111111111111111,
              "#46039f"
             ],
             [
              0.2222222222222222,
              "#7201a8"
             ],
             [
              0.3333333333333333,
              "#9c179e"
             ],
             [
              0.4444444444444444,
              "#bd3786"
             ],
             [
              0.5555555555555556,
              "#d8576b"
             ],
             [
              0.6666666666666666,
              "#ed7953"
             ],
             [
              0.7777777777777778,
              "#fb9f3a"
             ],
             [
              0.8888888888888888,
              "#fdca26"
             ],
             [
              1,
              "#f0f921"
             ]
            ],
            "type": "contour"
           }
          ],
          "contourcarpet": [
           {
            "colorbar": {
             "outlinewidth": 0,
             "ticks": ""
            },
            "type": "contourcarpet"
           }
          ],
          "heatmap": [
           {
            "colorbar": {
             "outlinewidth": 0,
             "ticks": ""
            },
            "colorscale": [
             [
              0,
              "#0d0887"
             ],
             [
              0.1111111111111111,
              "#46039f"
             ],
             [
              0.2222222222222222,
              "#7201a8"
             ],
             [
              0.3333333333333333,
              "#9c179e"
             ],
             [
              0.4444444444444444,
              "#bd3786"
             ],
             [
              0.5555555555555556,
              "#d8576b"
             ],
             [
              0.6666666666666666,
              "#ed7953"
             ],
             [
              0.7777777777777778,
              "#fb9f3a"
             ],
             [
              0.8888888888888888,
              "#fdca26"
             ],
             [
              1,
              "#f0f921"
             ]
            ],
            "type": "heatmap"
           }
          ],
          "heatmapgl": [
           {
            "colorbar": {
             "outlinewidth": 0,
             "ticks": ""
            },
            "colorscale": [
             [
              0,
              "#0d0887"
             ],
             [
              0.1111111111111111,
              "#46039f"
             ],
             [
              0.2222222222222222,
              "#7201a8"
             ],
             [
              0.3333333333333333,
              "#9c179e"
             ],
             [
              0.4444444444444444,
              "#bd3786"
             ],
             [
              0.5555555555555556,
              "#d8576b"
             ],
             [
              0.6666666666666666,
              "#ed7953"
             ],
             [
              0.7777777777777778,
              "#fb9f3a"
             ],
             [
              0.8888888888888888,
              "#fdca26"
             ],
             [
              1,
              "#f0f921"
             ]
            ],
            "type": "heatmapgl"
           }
          ],
          "histogram": [
           {
            "marker": {
             "pattern": {
              "fillmode": "overlay",
              "size": 10,
              "solidity": 0.2
             }
            },
            "type": "histogram"
           }
          ],
          "histogram2d": [
           {
            "colorbar": {
             "outlinewidth": 0,
             "ticks": ""
            },
            "colorscale": [
             [
              0,
              "#0d0887"
             ],
             [
              0.1111111111111111,
              "#46039f"
             ],
             [
              0.2222222222222222,
              "#7201a8"
             ],
             [
              0.3333333333333333,
              "#9c179e"
             ],
             [
              0.4444444444444444,
              "#bd3786"
             ],
             [
              0.5555555555555556,
              "#d8576b"
             ],
             [
              0.6666666666666666,
              "#ed7953"
             ],
             [
              0.7777777777777778,
              "#fb9f3a"
             ],
             [
              0.8888888888888888,
              "#fdca26"
             ],
             [
              1,
              "#f0f921"
             ]
            ],
            "type": "histogram2d"
           }
          ],
          "histogram2dcontour": [
           {
            "colorbar": {
             "outlinewidth": 0,
             "ticks": ""
            },
            "colorscale": [
             [
              0,
              "#0d0887"
             ],
             [
              0.1111111111111111,
              "#46039f"
             ],
             [
              0.2222222222222222,
              "#7201a8"
             ],
             [
              0.3333333333333333,
              "#9c179e"
             ],
             [
              0.4444444444444444,
              "#bd3786"
             ],
             [
              0.5555555555555556,
              "#d8576b"
             ],
             [
              0.6666666666666666,
              "#ed7953"
             ],
             [
              0.7777777777777778,
              "#fb9f3a"
             ],
             [
              0.8888888888888888,
              "#fdca26"
             ],
             [
              1,
              "#f0f921"
             ]
            ],
            "type": "histogram2dcontour"
           }
          ],
          "mesh3d": [
           {
            "colorbar": {
             "outlinewidth": 0,
             "ticks": ""
            },
            "type": "mesh3d"
           }
          ],
          "parcoords": [
           {
            "line": {
             "colorbar": {
              "outlinewidth": 0,
              "ticks": ""
             }
            },
            "type": "parcoords"
           }
          ],
          "pie": [
           {
            "automargin": true,
            "type": "pie"
           }
          ],
          "scatter": [
           {
            "fillpattern": {
             "fillmode": "overlay",
             "size": 10,
             "solidity": 0.2
            },
            "type": "scatter"
           }
          ],
          "scatter3d": [
           {
            "line": {
             "colorbar": {
              "outlinewidth": 0,
              "ticks": ""
             }
            },
            "marker": {
             "colorbar": {
              "outlinewidth": 0,
              "ticks": ""
             }
            },
            "type": "scatter3d"
           }
          ],
          "scattercarpet": [
           {
            "marker": {
             "colorbar": {
              "outlinewidth": 0,
              "ticks": ""
             }
            },
            "type": "scattercarpet"
           }
          ],
          "scattergeo": [
           {
            "marker": {
             "colorbar": {
              "outlinewidth": 0,
              "ticks": ""
             }
            },
            "type": "scattergeo"
           }
          ],
          "scattergl": [
           {
            "marker": {
             "colorbar": {
              "outlinewidth": 0,
              "ticks": ""
             }
            },
            "type": "scattergl"
           }
          ],
          "scattermapbox": [
           {
            "marker": {
             "colorbar": {
              "outlinewidth": 0,
              "ticks": ""
             }
            },
            "type": "scattermapbox"
           }
          ],
          "scatterpolar": [
           {
            "marker": {
             "colorbar": {
              "outlinewidth": 0,
              "ticks": ""
             }
            },
            "type": "scatterpolar"
           }
          ],
          "scatterpolargl": [
           {
            "marker": {
             "colorbar": {
              "outlinewidth": 0,
              "ticks": ""
             }
            },
            "type": "scatterpolargl"
           }
          ],
          "scatterternary": [
           {
            "marker": {
             "colorbar": {
              "outlinewidth": 0,
              "ticks": ""
             }
            },
            "type": "scatterternary"
           }
          ],
          "surface": [
           {
            "colorbar": {
             "outlinewidth": 0,
             "ticks": ""
            },
            "colorscale": [
             [
              0,
              "#0d0887"
             ],
             [
              0.1111111111111111,
              "#46039f"
             ],
             [
              0.2222222222222222,
              "#7201a8"
             ],
             [
              0.3333333333333333,
              "#9c179e"
             ],
             [
              0.4444444444444444,
              "#bd3786"
             ],
             [
              0.5555555555555556,
              "#d8576b"
             ],
             [
              0.6666666666666666,
              "#ed7953"
             ],
             [
              0.7777777777777778,
              "#fb9f3a"
             ],
             [
              0.8888888888888888,
              "#fdca26"
             ],
             [
              1,
              "#f0f921"
             ]
            ],
            "type": "surface"
           }
          ],
          "table": [
           {
            "cells": {
             "fill": {
              "color": "#EBF0F8"
             },
             "line": {
              "color": "white"
             }
            },
            "header": {
             "fill": {
              "color": "#C8D4E3"
             },
             "line": {
              "color": "white"
             }
            },
            "type": "table"
           }
          ]
         },
         "layout": {
          "annotationdefaults": {
           "arrowcolor": "#2a3f5f",
           "arrowhead": 0,
           "arrowwidth": 1
          },
          "autotypenumbers": "strict",
          "coloraxis": {
           "colorbar": {
            "outlinewidth": 0,
            "ticks": ""
           }
          },
          "colorscale": {
           "diverging": [
            [
             0,
             "#8e0152"
            ],
            [
             0.1,
             "#c51b7d"
            ],
            [
             0.2,
             "#de77ae"
            ],
            [
             0.3,
             "#f1b6da"
            ],
            [
             0.4,
             "#fde0ef"
            ],
            [
             0.5,
             "#f7f7f7"
            ],
            [
             0.6,
             "#e6f5d0"
            ],
            [
             0.7,
             "#b8e186"
            ],
            [
             0.8,
             "#7fbc41"
            ],
            [
             0.9,
             "#4d9221"
            ],
            [
             1,
             "#276419"
            ]
           ],
           "sequential": [
            [
             0,
             "#0d0887"
            ],
            [
             0.1111111111111111,
             "#46039f"
            ],
            [
             0.2222222222222222,
             "#7201a8"
            ],
            [
             0.3333333333333333,
             "#9c179e"
            ],
            [
             0.4444444444444444,
             "#bd3786"
            ],
            [
             0.5555555555555556,
             "#d8576b"
            ],
            [
             0.6666666666666666,
             "#ed7953"
            ],
            [
             0.7777777777777778,
             "#fb9f3a"
            ],
            [
             0.8888888888888888,
             "#fdca26"
            ],
            [
             1,
             "#f0f921"
            ]
           ],
           "sequentialminus": [
            [
             0,
             "#0d0887"
            ],
            [
             0.1111111111111111,
             "#46039f"
            ],
            [
             0.2222222222222222,
             "#7201a8"
            ],
            [
             0.3333333333333333,
             "#9c179e"
            ],
            [
             0.4444444444444444,
             "#bd3786"
            ],
            [
             0.5555555555555556,
             "#d8576b"
            ],
            [
             0.6666666666666666,
             "#ed7953"
            ],
            [
             0.7777777777777778,
             "#fb9f3a"
            ],
            [
             0.8888888888888888,
             "#fdca26"
            ],
            [
             1,
             "#f0f921"
            ]
           ]
          },
          "colorway": [
           "#636efa",
           "#EF553B",
           "#00cc96",
           "#ab63fa",
           "#FFA15A",
           "#19d3f3",
           "#FF6692",
           "#B6E880",
           "#FF97FF",
           "#FECB52"
          ],
          "font": {
           "color": "#2a3f5f"
          },
          "geo": {
           "bgcolor": "white",
           "lakecolor": "white",
           "landcolor": "#E5ECF6",
           "showlakes": true,
           "showland": true,
           "subunitcolor": "white"
          },
          "hoverlabel": {
           "align": "left"
          },
          "hovermode": "closest",
          "mapbox": {
           "style": "light"
          },
          "paper_bgcolor": "white",
          "plot_bgcolor": "#E5ECF6",
          "polar": {
           "angularaxis": {
            "gridcolor": "white",
            "linecolor": "white",
            "ticks": ""
           },
           "bgcolor": "#E5ECF6",
           "radialaxis": {
            "gridcolor": "white",
            "linecolor": "white",
            "ticks": ""
           }
          },
          "scene": {
           "xaxis": {
            "backgroundcolor": "#E5ECF6",
            "gridcolor": "white",
            "gridwidth": 2,
            "linecolor": "white",
            "showbackground": true,
            "ticks": "",
            "zerolinecolor": "white"
           },
           "yaxis": {
            "backgroundcolor": "#E5ECF6",
            "gridcolor": "white",
            "gridwidth": 2,
            "linecolor": "white",
            "showbackground": true,
            "ticks": "",
            "zerolinecolor": "white"
           },
           "zaxis": {
            "backgroundcolor": "#E5ECF6",
            "gridcolor": "white",
            "gridwidth": 2,
            "linecolor": "white",
            "showbackground": true,
            "ticks": "",
            "zerolinecolor": "white"
           }
          },
          "shapedefaults": {
           "line": {
            "color": "#2a3f5f"
           }
          },
          "ternary": {
           "aaxis": {
            "gridcolor": "white",
            "linecolor": "white",
            "ticks": ""
           },
           "baxis": {
            "gridcolor": "white",
            "linecolor": "white",
            "ticks": ""
           },
           "bgcolor": "#E5ECF6",
           "caxis": {
            "gridcolor": "white",
            "linecolor": "white",
            "ticks": ""
           }
          },
          "title": {
           "x": 0.05
          },
          "xaxis": {
           "automargin": true,
           "gridcolor": "white",
           "linecolor": "white",
           "ticks": "",
           "title": {
            "standoff": 15
           },
           "zerolinecolor": "white",
           "zerolinewidth": 2
          },
          "yaxis": {
           "automargin": true,
           "gridcolor": "white",
           "linecolor": "white",
           "ticks": "",
           "title": {
            "standoff": 15
           },
           "zerolinecolor": "white",
           "zerolinewidth": 2
          }
         }
        },
        "title": {
         "text": "Peliculas por año"
        },
        "xaxis": {
         "anchor": "y",
         "domain": [
          0,
          1
         ],
         "title": {
          "text": "x"
         }
        },
        "yaxis": {
         "anchor": "x",
         "domain": [
          0,
          1
         ],
         "title": {
          "text": "y"
         }
        }
       }
      }
     },
     "metadata": {},
     "output_type": "display_data"
    }
   ],
   "source": [
    "movies_year =  {\"date\" : pd.to_datetime(movies_data[\"releaseDate\"])}\n",
    "movies_year['Year'] = movies_year['date'].dt.strftime('%Y')\n",
    "\n",
    "year_count = movies_year['Year'].value_counts().sort_values(ascending=False)    \n",
    "year_count_df = movies_year['Year'].value_counts().reset_index()\n",
    "year_count_df.columns = ['Year', 'Count']\n",
    "fig = px.bar(year_count_df, x='Year', y='Count', title= \"Peliculas por año\")\n",
    "fig.show()\n"
   ]
  },
  {
   "cell_type": "markdown",
   "metadata": {},
   "source": [
    "2021 fue el año en el que se hicieron mas películas (816)"
   ]
  },
  {
   "cell_type": "markdown",
   "metadata": {},
   "source": [
    "## f) ¿Cuál es el género principal de las 20 películas más recientes? ¿Cuál es el género principal que predomina en el conjunto de datos? Represéntelo usando un gráfico. ¿A qué género principal pertenecen las películas más largas?"
   ]
  },
  {
   "cell_type": "code",
   "execution_count": 32,
   "metadata": {},
   "outputs": [
    {
     "data": {
      "image/png": "[encoded data removed]",
      "text/plain": [
       "<Figure size 1000x500 with 1 Axes>"
      ]
     },
     "metadata": {},
     "output_type": "display_data"
    },
    {
     "data": {
      "image/png": "[encoded data removed]",
      "text/plain": [
       "<Figure size 1200x600 with 1 Axes>"
      ]
     },
     "metadata": {},
     "output_type": "display_data"
    },
    {
     "data": {
      "image/png": "[encoded data removed]",
      "text/plain": [
       "<Figure size 1000x500 with 1 Axes>"
      ]
     },
     "metadata": {},
     "output_type": "display_data"
    },
    {
     "name": "stdout",
     "output_type": "stream",
     "text": [
      "GENERO PRINCIPAL EN LAS 20 PELICULAS MAS RECIENTES:  Comedy \n",
      "DISTRIBUCION DE GENERO PRINCIPAL EN LOS DATOS:  Drama \n",
      "GENERO EN LARGAS PELICULAS:  Drama\n"
     ]
    }
   ],
   "source": [
    "movies_data['releaseDate'] = pd.to_datetime(movies_data['releaseDate'], errors='coerce')\n",
    "movies_data['mainGenre'] = movies_data['genres'].apply(lambda x: x.split('|')[0] if isinstance(x, str) else None)\n",
    "\n",
    "latest_20_movies = movies_data.sort_values(by='releaseDate', ascending=False).head(20)\n",
    "latest_20_genres = latest_20_movies['mainGenre'].value_counts()\n",
    "\n",
    "overall_genre_counts = movies_data['mainGenre'].value_counts()\n",
    "\n",
    "longest_movies = movies_data.nlargest(10, 'runtime')[['title', 'runtime', 'mainGenre']]\n",
    "longest_movie_genres = longest_movies['mainGenre'].value_counts()\n",
    "\n",
    "\n",
    "plt.figure(figsize=(10,5))\n",
    "latest_20_genres.plot(kind='bar', color='skyblue', edgecolor='black')\n",
    "plt.title(\"Género Principal de las 20 Películas Más Recientes\")\n",
    "plt.xlabel(\"Género\")\n",
    "plt.ylabel(\"Cantidad de Películas\")\n",
    "plt.xticks(rotation=45)\n",
    "plt.grid(axis='y', linestyle='--', alpha=0.7)\n",
    "plt.show()\n",
    "\n",
    "plt.figure(figsize=(12,6))\n",
    "overall_genre_counts.plot(kind='bar', color='coral', edgecolor='black')\n",
    "plt.title(\"Distribución de Géneros en el Conjunto de Datos\")\n",
    "plt.xlabel(\"Género\")\n",
    "plt.ylabel(\"Cantidad de Películas\")\n",
    "plt.xticks(rotation=45)\n",
    "plt.grid(axis='y', linestyle='--', alpha=0.7)\n",
    "plt.show()\n",
    "\n",
    "plt.figure(figsize=(10,5))\n",
    "longest_movie_genres.plot(kind='bar', color='green', edgecolor='black')\n",
    "plt.title(\"Género Principal de las Películas Más Largas\")\n",
    "plt.xlabel(\"Género\")\n",
    "plt.ylabel(\"Cantidad de Películas\")\n",
    "plt.xticks(rotation=45)\n",
    "plt.grid(axis='y', linestyle='--', alpha=0.7)\n",
    "plt.show()\n",
    "\n",
    "print('GENERO PRINCIPAL EN LAS 20 PELICULAS MAS RECIENTES: ', latest_20_genres.idxmax(), '\\nDISTRIBUCION DE GENERO PRINCIPAL EN LOS DATOS: ', overall_genre_counts.idxmax(), '\\nGENERO EN LARGAS PELICULAS: ', longest_movie_genres.idxmax())\n"
   ]
  },
  {
   "cell_type": "markdown",
   "metadata": {},
   "source": [
    "## h) ¿La cantidad de actores influye en los ingresos de las películas? ¿Se han hecho películas con más actores en los últimos años?"
   ]
  },
  {
   "cell_type": "code",
   "execution_count": 43,
   "metadata": {},
   "outputs": [
    {
     "data": {
      "image/png": "[encoded data removed]",
      "text/plain": [
       "<Figure size 1000x500 with 1 Axes>"
      ]
     },
     "metadata": {},
     "output_type": "display_data"
    },
    {
     "data": {
      "image/png": "[encoded data removed]",
      "text/plain": [
       "<Figure size 1000x500 with 1 Axes>"
      ]
     },
     "metadata": {},
     "output_type": "display_data"
    },
    {
     "name": "stdout",
     "output_type": "stream",
     "text": [
      "Coeficiente de correlación entre la cantidad de actores y los ingresos: -0.02, Significando que no tiene mucha relacion la cantidad de actores con los ingresos en una pelicula\n",
      "En promedio, la cantidad de actores por película ha cambiado entre 1902 y 2022:\n",
      "year\n",
      "2013    1870.553398\n",
      "2014    2193.423611\n",
      "2015    1403.093333\n",
      "2016    4111.929982\n",
      "2017    3593.011327\n",
      "2018    3896.748808\n",
      "2019    2107.874183\n",
      "2020    2832.315197\n",
      "2021    3188.525735\n",
      "2022      12.142857\n",
      "Name: actorsAmount, dtype: float64\n",
      "Se puede decir que dependiendo el año y la pelicula, se usan mas o menores actores, ya que la diferencia entre  1902 y 2022 solo es de 1.14\n"
     ]
    }
   ],
   "source": [
    "movies_data['releaseDate'] = pd.to_datetime(movies_data['releaseDate'], errors='coerce')\n",
    "\n",
    "plt.figure(figsize=(10, 5))\n",
    "plt.scatter(movies_data['actorsAmount'], movies_data['revenue'], alpha=0.5, color='blue')\n",
    "plt.xlabel(\"Cantidad de Actores\")\n",
    "plt.ylabel(\"Ingresos ($)\")\n",
    "plt.title(\"Relación entre la Cantidad de Actores y los Ingresos\")\n",
    "plt.grid(True, linestyle='--', alpha=0.7)\n",
    "plt.show()\n",
    "\n",
    "movies_data['year'] = movies_data['releaseDate'].dt.year\n",
    "actors_trend = movies_data.groupby('year')['actorsAmount'].mean()\n",
    "\n",
    "plt.figure(figsize=(10, 5))\n",
    "plt.plot(actors_trend.index, actors_trend.values, marker='o', linestyle='-', color='red')\n",
    "plt.xlabel(\"Año de Estreno\")\n",
    "plt.ylabel(\"Cantidad Promedio de Actores\")\n",
    "plt.title(\"Evolución de la Cantidad de Actores en Películas\")\n",
    "plt.grid(True, linestyle='--', alpha=0.7)\n",
    "plt.show()\n",
    "\n",
    "corr_value = movies_data[['actorsAmount', 'revenue']].corr().iloc[0, 1]\n",
    "if corr_value <= 0 :\n",
    "    print(f\"Coeficiente de correlación entre la cantidad de actores y los ingresos: {corr_value:.2f}, Significando que no tiene mucha relacion la cantidad de actores con los ingresos en una pelicula\")\n",
    "else:\n",
    "    print(f\"Coeficiente de correlación entre la cantidad de actores y los ingresos: {corr_value:.2f}, Significando que si tiene relacion la cantidad de actores con los ingresos en una pelicula\")\n",
    "    \n",
    "\n",
    "latest_year = movies_data['year'].max()\n",
    "earliest_year = movies_data['year'].min()\n",
    "print(f\"En promedio, la cantidad de actores por película ha cambiado entre {earliest_year} y {latest_year}:\")\n",
    "print(actors_trend.tail(10))\n",
    "actors_difference = actors_trend[latest_year] - actors_trend[earliest_year]\n",
    "print(f\"Se puede decir que dependiendo el año y la pelicula, se usan mas o menores actores, ya que la diferencia entre  {earliest_year} y {latest_year} solo es de {actors_difference:.2f}\")\n"
   ]
  }
 ],
 "metadata": {
  "kernelspec": {
   "display_name": "Python 3",
   "language": "python",
   "name": "python3"
  },
  "language_info": {
   "codemirror_mode": {
    "name": "ipython",
    "version": 3
   },
   "file_extension": ".py",
   "mimetype": "text/x-python",
   "name": "python",
   "nbconvert_exporter": "python",
   "pygments_lexer": "ipython3",
   "version": "3.12.2"
  }
 },
 "nbformat": 4,
 "nbformat_minor": 2
}
