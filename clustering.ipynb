{
 "cells": [
  {
   "cell_type": "markdown",
   "metadata": {},
   "source": [
    "# Clustering"
   ]
  },
  {
   "cell_type": "code",
   "execution_count": 34,
   "metadata": {},
   "outputs": [],
   "source": [
    "import pandas as pd\n",
    "movies_data = pd.read_csv(\"movies/movies.csv\",encoding ='latin1')\n"
   ]
  },
  {
   "cell_type": "markdown",
   "metadata": {},
   "source": [
    "## 1.1 Haga el preprocesamiento del dataset, explique qué variables no aportan información a la generación de grupos y por qué. Describa con qué variables calculará los grupos."
   ]
  },
  {
   "cell_type": "code",
   "execution_count": null,
   "metadata": {},
   "outputs": [
    {
     "name": "stdout",
     "output_type": "stream",
     "text": [
      "0\n",
      "0\n",
      "df for clustering --------------\n",
      "Index(['budget', 'revenue', 'runtime', 'popularity', 'voteAvg', 'voteCount',\n",
      "       'genresAmount', 'productionCoAmount', 'productionCountriesAmount',\n",
      "       'actorsAmount', 'castWomenAmount', 'castMenAmount'],\n",
      "      dtype='object')\n"
     ]
    }
   ],
   "source": [
    "categorical_columns = [ # innecesarias para clustering\n",
    "    \"id\", \n",
    "    \"genres\",\n",
    "    \"homePage\", \n",
    "    \"productionCompany\",\n",
    "    \"productionCompanyCountry\",\n",
    "    \"productionCountry\", \n",
    "    \"releaseDate\",  \n",
    "    \"actors\",      \n",
    "    \"director\",\n",
    "    \"actorsPopularity\",\n",
    "    \"actorsCharacter\",\n",
    "    \"originalTitle\",\n",
    "    \"title\",\n",
    "    \"originalLanguage\",\n",
    "    \"video\"\n",
    "]\n",
    "\n",
    "df_clustering = movies_data.drop(columns=categorical_columns, errors='ignore')\n",
    "\n",
    "# Convertir a numérico y eliminar filas con valores no convertibles\n",
    "df_clustering[\"castWomenAmount\"] = pd.to_numeric(df_clustering[\"castWomenAmount\"], errors=\"coerce\")\n",
    "df_clustering[\"castMenAmount\"] = pd.to_numeric(df_clustering[\"castMenAmount\"], errors=\"coerce\")\n",
    "\n",
    "# Eliminar filas con valores nulos después de la conversión\n",
    "df_clustering = df_clustering.dropna(subset=[\"castWomenAmount\", \"castMenAmount\"])\n",
    "\n",
    "# Verificar que ya no haya valores nulos en estas columnas\n",
    "print(df_clustering[\"castWomenAmount\"].isnull().sum())\n",
    "print(df_clustering[\"castMenAmount\"].isnull().sum())\n",
    "\n",
    "print('variables para clustering')\n",
    "print(df_clustering.columns)\n"
   ]
  },
  {
   "cell_type": "markdown",
   "metadata": {},
   "source": [
    "## 1.2 Analice la tendencia al agrupamiento usando el estadístico de Hopkings y la VAT (Visual Assessment of cluster Tendency). Esta última hágala si es posible, teniendo en cuenta las dimensiones del conjunto de datos. Discuta sus resultados e impresiones."
   ]
  },
  {
   "cell_type": "code",
   "execution_count": null,
   "metadata": {},
   "outputs": [],
   "source": []
  },
  {
   "cell_type": "markdown",
   "metadata": {},
   "source": [
    "## 1.3 Determine cuál es el número de grupos a formar más adecuado para los datos que está trabajando. Haga una gráfica de codo y explique la razón de la elección de la cantidad de clústeres con la que trabajará."
   ]
  },
  {
   "cell_type": "code",
   "execution_count": null,
   "metadata": {},
   "outputs": [],
   "source": []
  },
  {
   "cell_type": "markdown",
   "metadata": {},
   "source": [
    "## 1.4 Utilice los algoritmos k-medias y clustering jerárquico para agrupar. Compare los resultados generados por cada uno."
   ]
  },
  {
   "cell_type": "code",
   "execution_count": null,
   "metadata": {},
   "outputs": [],
   "source": []
  },
  {
   "cell_type": "markdown",
   "metadata": {},
   "source": [
    "## 1.5 Determine la calidad del agrupamiento hecho por cada algoritmo con el método de la silueta. Discuta los resultados."
   ]
  },
  {
   "cell_type": "code",
   "execution_count": null,
   "metadata": {},
   "outputs": [],
   "source": []
  },
  {
   "cell_type": "markdown",
   "metadata": {},
   "source": [
    "## nterprete los grupos basado en el conocimiento que tiene de los datos. Recuerde investigar las medidas de tendencia central de las variables continuas y las tablas de frecuencia de las variables categóricas pertenecientes a cada grupo. Identifique hallazgos interesantes debido a las agrupaciones y describa para qué le podría servir"
   ]
  }
 ],
 "metadata": {
  "kernelspec": {
   "display_name": "Python 3",
   "language": "python",
   "name": "python3"
  },
  "language_info": {
   "codemirror_mode": {
    "name": "ipython",
    "version": 3
   },
   "file_extension": ".py",
   "mimetype": "text/x-python",
   "name": "python",
   "nbconvert_exporter": "python",
   "pygments_lexer": "ipython3",
   "version": "3.12.2"
  }
 },
 "nbformat": 4,
 "nbformat_minor": 2
}
